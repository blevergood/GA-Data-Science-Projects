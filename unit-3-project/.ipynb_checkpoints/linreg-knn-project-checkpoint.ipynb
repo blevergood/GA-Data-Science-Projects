{
 "cells": [
  {
   "cell_type": "markdown",
   "metadata": {},
   "source": [
    "<img src=\"http://imgur.com/1ZcRyrc.png\" style=\"float: left; margin: 20px; height: 55px\">\n",
    "\n",
    "# Project 3: Linear Regression and KNN - Train/Test Split\n",
    "\n",
    "---"
   ]
  },
  {
   "cell_type": "markdown",
   "metadata": {},
   "source": [
    "# Introduction\n",
    "\n",
    "We've discussed overfitting in the context of bias and variance, and we've touched on some techniques, such as regularization, that are used to avoid overfitting (but haven't practiced them yet). In this lesson we'll discuss a fundamental method for avoiding overfitting that is commonly referred to as _train/test split_ validation. \n",
    "\n",
    "The idea is similar to something called \"cross-validation\" — in fact, it is a type of cross-validation — in that we split the data set into two subsets:\n",
    "* A subset on which to train our model.\n",
    "* A subset on which to test our model's predictions.\n",
    "\n",
    "This serves two useful purposes:\n",
    "* We prevent overfitting by not using all of the data.\n",
    "* We have some remaining data we can use to evaluate our model.\n",
    "\n",
    "While this may seem like a relatively simple idea, **there are some caveats** to putting it into practice. For example, if you are not careful, it is easy to take a non-random split. Suppose we have salary data on technical professionals that is composed of 80 percent data from California and 20 percent data from elsewhere and is sorted by state. If we split our data into 80 percent training data and 20 percent testing data, we might inadvertantly select all the California data to train and all the non-California data to test. In this case we've still overfit on our data set because we did not sufficiently randomize the data.\n",
    "\n",
    "In a situation like this we can use _k-fold cross-validation_, which is the same idea applied to more than two subsets. In particular, we partition our data into $k$ subsets and train on $k-1$ one of them, holding the last slice for testing. We can do this for each of the possible $k-1$ subsets."
   ]
  },
  {
   "cell_type": "markdown",
   "metadata": {},
   "source": [
    "# Independent Practice\n",
    "\n",
    "Ultimately we use a test-training split to compare multiple models on the same data set. This could be comparisons of two linear models or of completely different models on the same data.\n",
    "\n",
    "For your independent practice, fit three different models on the Boston housing data. For example, you could pick three different subsets of variables, one or more polynomial models, or any other model you'd like. \n",
    "\n",
    "### Here's What We Will Be Doing:\n",
    "\n",
    "* Working with Boston housing data to predict the value of a home\n",
    "* Create a test-train split of the data.\n",
    "* Train each of your models on the training data.\n",
    "* Evaluate each of the models on the test data.\n",
    "* Rank the models by how well they score on the testing data set.\n",
    "\n",
    "**Then, try k-folds.**\n",
    "\n",
    "* Try a few different splits of data for the same models.\n",
    "* Perform a k-fold cross-validation and use the cross-validation scores to compare your models. Did this change your rankings?\n",
    "\n",
    "**Be sure to provide interpretation for your results.**"
   ]
  },
  {
   "cell_type": "markdown",
   "metadata": {},
   "source": [
    "Recall that k-fold cross-validation creates a hold portion of your data set for each iteration of training and validating:\n",
    "\n",
    "![](http://i.imgur.com/0PFrPXJ.png)"
   ]
  },
  {
   "cell_type": "markdown",
   "metadata": {},
   "source": [
    "## Linear Regression Use Case\n",
    "\n",
    "In this given task, you will be asked to model the median home price of various houses across U.S. Census tracts in the city of Boston. This is a probable use case: We are predicting a continuous, numeric output (price) based on a combination of discrete features."
   ]
  },
  {
   "cell_type": "code",
   "execution_count": 145,
   "metadata": {},
   "outputs": [],
   "source": [
    "import matplotlib.pyplot as plt\n",
    "\n",
    "% matplotlib inline"
   ]
  },
  {
   "cell_type": "code",
   "execution_count": 146,
   "metadata": {},
   "outputs": [
    {
     "name": "stdout",
     "output_type": "stream",
     "text": [
      "Boston House Prices dataset\n",
      "===========================\n",
      "\n",
      "Notes\n",
      "------\n",
      "Data Set Characteristics:  \n",
      "\n",
      "    :Number of Instances: 506 \n",
      "\n",
      "    :Number of Attributes: 13 numeric/categorical predictive\n",
      "    \n",
      "    :Median Value (attribute 14) is usually the target\n",
      "\n",
      "    :Attribute Information (in order):\n",
      "        - CRIM     per capita crime rate by town\n",
      "        - ZN       proportion of residential land zoned for lots over 25,000 sq.ft.\n",
      "        - INDUS    proportion of non-retail business acres per town\n",
      "        - CHAS     Charles River dummy variable (= 1 if tract bounds river; 0 otherwise)\n",
      "        - NOX      nitric oxides concentration (parts per 10 million)\n",
      "        - RM       average number of rooms per dwelling\n",
      "        - AGE      proportion of owner-occupied units built prior to 1940\n",
      "        - DIS      weighted distances to five Boston employment centres\n",
      "        - RAD      index of accessibility to radial highways\n",
      "        - TAX      full-value property-tax rate per $10,000\n",
      "        - PTRATIO  pupil-teacher ratio by town\n",
      "        - B        1000(Bk - 0.63)^2 where Bk is the proportion of blacks by town\n",
      "        - LSTAT    % lower status of the population\n",
      "        - MEDV     Median value of owner-occupied homes in $1000's\n",
      "\n",
      "    :Missing Attribute Values: None\n",
      "\n",
      "    :Creator: Harrison, D. and Rubinfeld, D.L.\n",
      "\n",
      "This is a copy of UCI ML housing dataset.\n",
      "http://archive.ics.uci.edu/ml/datasets/Housing\n",
      "\n",
      "\n",
      "This dataset was taken from the StatLib library which is maintained at Carnegie Mellon University.\n",
      "\n",
      "The Boston house-price data of Harrison, D. and Rubinfeld, D.L. 'Hedonic\n",
      "prices and the demand for clean air', J. Environ. Economics & Management,\n",
      "vol.5, 81-102, 1978.   Used in Belsley, Kuh & Welsch, 'Regression diagnostics\n",
      "...', Wiley, 1980.   N.B. Various transformations are used in the table on\n",
      "pages 244-261 of the latter.\n",
      "\n",
      "The Boston house-price data has been used in many machine learning papers that address regression\n",
      "problems.   \n",
      "     \n",
      "**References**\n",
      "\n",
      "   - Belsley, Kuh & Welsch, 'Regression diagnostics: Identifying Influential Data and Sources of Collinearity', Wiley, 1980. 244-261.\n",
      "   - Quinlan,R. (1993). Combining Instance-Based and Model-Based Learning. In Proceedings on the Tenth International Conference of Machine Learning, 236-243, University of Massachusetts, Amherst. Morgan Kaufmann.\n",
      "   - many more! (see http://archive.ics.uci.edu/ml/datasets/Housing)\n",
      "\n"
     ]
    }
   ],
   "source": [
    "import pandas as pd\n",
    "import numpy as np\n",
    "from sklearn.datasets import load_boston\n",
    "\n",
    "boston = load_boston()\n",
    "\n",
    "X = pd.DataFrame(boston.data,\n",
    "                 columns=boston.feature_names)\n",
    "y = pd.DataFrame(boston.target,\n",
    "                 columns=['MEDV'])\n",
    "\n",
    "print(boston['DESCR'])"
   ]
  },
  {
   "cell_type": "markdown",
   "metadata": {},
   "source": [
    "### 1. Clean Up Data and Perform Exporatory Data Analysis"
   ]
  },
  {
   "cell_type": "markdown",
   "metadata": {
    "collapsed": true
   },
   "source": [
    "Boston data is from scikit-learn, so it ought to be pretty clean, but we should always perform exploratory data analysis."
   ]
  },
  {
   "cell_type": "code",
   "execution_count": 147,
   "metadata": {},
   "outputs": [
    {
     "name": "stdout",
     "output_type": "stream",
     "text": [
      "Number of nulls in the features:\n",
      "CRIM       0\n",
      "ZN         0\n",
      "INDUS      0\n",
      "CHAS       0\n",
      "NOX        0\n",
      "RM         0\n",
      "AGE        0\n",
      "DIS        0\n",
      "RAD        0\n",
      "TAX        0\n",
      "PTRATIO    0\n",
      "B          0\n",
      "LSTAT      0\n",
      "dtype: int64\n",
      "\n",
      "Number of nulls in MEDV:\n",
      "MEDV    0\n",
      "dtype: int64\n"
     ]
    }
   ],
   "source": [
    "# Exploratory data analysis.\n",
    "\n",
    "# Include: \n",
    "# total nulls\n",
    "print(\"Number of nulls in the features:\\n\" + str(X.isnull().sum()))\n",
    "print()\n",
    "print(\"Number of nulls in MEDV:\\n\" + str(y.isnull().sum()))"
   ]
  },
  {
   "cell_type": "code",
   "execution_count": 148,
   "metadata": {},
   "outputs": [
    {
     "name": "stdout",
     "output_type": "stream",
     "text": [
      "Feature DF index:\n",
      " RangeIndex(start=0, stop=506, step=1)\n",
      "\n",
      "MEDV DF index:\n",
      " RangeIndex(start=0, stop=506, step=1)\n"
     ]
    }
   ],
   "source": [
    "# index\n",
    "print(\"Feature DF index:\\n\", X.index)\n",
    "print()\n",
    "print(\"MEDV DF index:\\n\", y.index)"
   ]
  },
  {
   "cell_type": "code",
   "execution_count": 149,
   "metadata": {},
   "outputs": [
    {
     "name": "stdout",
     "output_type": "stream",
     "text": [
      "Feature DF data types:\n",
      "CRIM       float64\n",
      "ZN         float64\n",
      "INDUS      float64\n",
      "CHAS       float64\n",
      "NOX        float64\n",
      "RM         float64\n",
      "AGE        float64\n",
      "DIS        float64\n",
      "RAD        float64\n",
      "TAX        float64\n",
      "PTRATIO    float64\n",
      "B          float64\n",
      "LSTAT      float64\n",
      "dtype: object\n",
      "\n",
      "MEDV DF data types:\n",
      "MEDV    float64\n",
      "dtype: object\n"
     ]
    }
   ],
   "source": [
    "# data types\n",
    "print(\"Feature DF data types:\\n\" + str(X.dtypes))\n",
    "print()\n",
    "print(\"MEDV DF data types:\\n\" + str(y.dtypes))"
   ]
  },
  {
   "cell_type": "code",
   "execution_count": 150,
   "metadata": {},
   "outputs": [
    {
     "name": "stdout",
     "output_type": "stream",
     "text": [
      "Feature DF shape:\n",
      " (506, 13)\n",
      "\n",
      "MEDV DF shape:\n",
      " (506, 1)\n"
     ]
    }
   ],
   "source": [
    "# shape\n",
    "print(\"Feature DF shape:\\n\", X.shape)\n",
    "print()\n",
    "print(\"MEDV DF shape:\\n\", y.shape)"
   ]
  },
  {
   "cell_type": "code",
   "execution_count": 151,
   "metadata": {},
   "outputs": [
    {
     "data": {
      "text/html": [
       "<div>\n",
       "<style scoped>\n",
       "    .dataframe tbody tr th:only-of-type {\n",
       "        vertical-align: middle;\n",
       "    }\n",
       "\n",
       "    .dataframe tbody tr th {\n",
       "        vertical-align: top;\n",
       "    }\n",
       "\n",
       "    .dataframe thead th {\n",
       "        text-align: right;\n",
       "    }\n",
       "</style>\n",
       "<table border=\"1\" class=\"dataframe\">\n",
       "  <thead>\n",
       "    <tr style=\"text-align: right;\">\n",
       "      <th></th>\n",
       "      <th>CRIM</th>\n",
       "      <th>ZN</th>\n",
       "      <th>INDUS</th>\n",
       "      <th>CHAS</th>\n",
       "      <th>NOX</th>\n",
       "      <th>RM</th>\n",
       "      <th>AGE</th>\n",
       "      <th>DIS</th>\n",
       "      <th>RAD</th>\n",
       "      <th>TAX</th>\n",
       "      <th>PTRATIO</th>\n",
       "      <th>B</th>\n",
       "      <th>LSTAT</th>\n",
       "    </tr>\n",
       "  </thead>\n",
       "  <tbody>\n",
       "    <tr>\n",
       "      <th>count</th>\n",
       "      <td>506.000000</td>\n",
       "      <td>506.000000</td>\n",
       "      <td>506.000000</td>\n",
       "      <td>506.000000</td>\n",
       "      <td>506.000000</td>\n",
       "      <td>506.000000</td>\n",
       "      <td>506.000000</td>\n",
       "      <td>506.000000</td>\n",
       "      <td>506.000000</td>\n",
       "      <td>506.000000</td>\n",
       "      <td>506.000000</td>\n",
       "      <td>506.000000</td>\n",
       "      <td>506.000000</td>\n",
       "    </tr>\n",
       "    <tr>\n",
       "      <th>mean</th>\n",
       "      <td>3.593761</td>\n",
       "      <td>11.363636</td>\n",
       "      <td>11.136779</td>\n",
       "      <td>0.069170</td>\n",
       "      <td>0.554695</td>\n",
       "      <td>6.284634</td>\n",
       "      <td>68.574901</td>\n",
       "      <td>3.795043</td>\n",
       "      <td>9.549407</td>\n",
       "      <td>408.237154</td>\n",
       "      <td>18.455534</td>\n",
       "      <td>356.674032</td>\n",
       "      <td>12.653063</td>\n",
       "    </tr>\n",
       "    <tr>\n",
       "      <th>std</th>\n",
       "      <td>8.596783</td>\n",
       "      <td>23.322453</td>\n",
       "      <td>6.860353</td>\n",
       "      <td>0.253994</td>\n",
       "      <td>0.115878</td>\n",
       "      <td>0.702617</td>\n",
       "      <td>28.148861</td>\n",
       "      <td>2.105710</td>\n",
       "      <td>8.707259</td>\n",
       "      <td>168.537116</td>\n",
       "      <td>2.164946</td>\n",
       "      <td>91.294864</td>\n",
       "      <td>7.141062</td>\n",
       "    </tr>\n",
       "    <tr>\n",
       "      <th>min</th>\n",
       "      <td>0.006320</td>\n",
       "      <td>0.000000</td>\n",
       "      <td>0.460000</td>\n",
       "      <td>0.000000</td>\n",
       "      <td>0.385000</td>\n",
       "      <td>3.561000</td>\n",
       "      <td>2.900000</td>\n",
       "      <td>1.129600</td>\n",
       "      <td>1.000000</td>\n",
       "      <td>187.000000</td>\n",
       "      <td>12.600000</td>\n",
       "      <td>0.320000</td>\n",
       "      <td>1.730000</td>\n",
       "    </tr>\n",
       "    <tr>\n",
       "      <th>25%</th>\n",
       "      <td>0.082045</td>\n",
       "      <td>0.000000</td>\n",
       "      <td>5.190000</td>\n",
       "      <td>0.000000</td>\n",
       "      <td>0.449000</td>\n",
       "      <td>5.885500</td>\n",
       "      <td>45.025000</td>\n",
       "      <td>2.100175</td>\n",
       "      <td>4.000000</td>\n",
       "      <td>279.000000</td>\n",
       "      <td>17.400000</td>\n",
       "      <td>375.377500</td>\n",
       "      <td>6.950000</td>\n",
       "    </tr>\n",
       "    <tr>\n",
       "      <th>50%</th>\n",
       "      <td>0.256510</td>\n",
       "      <td>0.000000</td>\n",
       "      <td>9.690000</td>\n",
       "      <td>0.000000</td>\n",
       "      <td>0.538000</td>\n",
       "      <td>6.208500</td>\n",
       "      <td>77.500000</td>\n",
       "      <td>3.207450</td>\n",
       "      <td>5.000000</td>\n",
       "      <td>330.000000</td>\n",
       "      <td>19.050000</td>\n",
       "      <td>391.440000</td>\n",
       "      <td>11.360000</td>\n",
       "    </tr>\n",
       "    <tr>\n",
       "      <th>75%</th>\n",
       "      <td>3.647423</td>\n",
       "      <td>12.500000</td>\n",
       "      <td>18.100000</td>\n",
       "      <td>0.000000</td>\n",
       "      <td>0.624000</td>\n",
       "      <td>6.623500</td>\n",
       "      <td>94.075000</td>\n",
       "      <td>5.188425</td>\n",
       "      <td>24.000000</td>\n",
       "      <td>666.000000</td>\n",
       "      <td>20.200000</td>\n",
       "      <td>396.225000</td>\n",
       "      <td>16.955000</td>\n",
       "    </tr>\n",
       "    <tr>\n",
       "      <th>max</th>\n",
       "      <td>88.976200</td>\n",
       "      <td>100.000000</td>\n",
       "      <td>27.740000</td>\n",
       "      <td>1.000000</td>\n",
       "      <td>0.871000</td>\n",
       "      <td>8.780000</td>\n",
       "      <td>100.000000</td>\n",
       "      <td>12.126500</td>\n",
       "      <td>24.000000</td>\n",
       "      <td>711.000000</td>\n",
       "      <td>22.000000</td>\n",
       "      <td>396.900000</td>\n",
       "      <td>37.970000</td>\n",
       "    </tr>\n",
       "  </tbody>\n",
       "</table>\n",
       "</div>"
      ],
      "text/plain": [
       "             CRIM          ZN       INDUS        CHAS         NOX          RM  \\\n",
       "count  506.000000  506.000000  506.000000  506.000000  506.000000  506.000000   \n",
       "mean     3.593761   11.363636   11.136779    0.069170    0.554695    6.284634   \n",
       "std      8.596783   23.322453    6.860353    0.253994    0.115878    0.702617   \n",
       "min      0.006320    0.000000    0.460000    0.000000    0.385000    3.561000   \n",
       "25%      0.082045    0.000000    5.190000    0.000000    0.449000    5.885500   \n",
       "50%      0.256510    0.000000    9.690000    0.000000    0.538000    6.208500   \n",
       "75%      3.647423   12.500000   18.100000    0.000000    0.624000    6.623500   \n",
       "max     88.976200  100.000000   27.740000    1.000000    0.871000    8.780000   \n",
       "\n",
       "              AGE         DIS         RAD         TAX     PTRATIO           B  \\\n",
       "count  506.000000  506.000000  506.000000  506.000000  506.000000  506.000000   \n",
       "mean    68.574901    3.795043    9.549407  408.237154   18.455534  356.674032   \n",
       "std     28.148861    2.105710    8.707259  168.537116    2.164946   91.294864   \n",
       "min      2.900000    1.129600    1.000000  187.000000   12.600000    0.320000   \n",
       "25%     45.025000    2.100175    4.000000  279.000000   17.400000  375.377500   \n",
       "50%     77.500000    3.207450    5.000000  330.000000   19.050000  391.440000   \n",
       "75%     94.075000    5.188425   24.000000  666.000000   20.200000  396.225000   \n",
       "max    100.000000   12.126500   24.000000  711.000000   22.000000  396.900000   \n",
       "\n",
       "            LSTAT  \n",
       "count  506.000000  \n",
       "mean    12.653063  \n",
       "std      7.141062  \n",
       "min      1.730000  \n",
       "25%      6.950000  \n",
       "50%     11.360000  \n",
       "75%     16.955000  \n",
       "max     37.970000  "
      ]
     },
     "execution_count": 151,
     "metadata": {},
     "output_type": "execute_result"
    }
   ],
   "source": [
    "# summary statistics\n",
    "X.describe()"
   ]
  },
  {
   "cell_type": "code",
   "execution_count": 152,
   "metadata": {},
   "outputs": [
    {
     "data": {
      "text/html": [
       "<div>\n",
       "<style scoped>\n",
       "    .dataframe tbody tr th:only-of-type {\n",
       "        vertical-align: middle;\n",
       "    }\n",
       "\n",
       "    .dataframe tbody tr th {\n",
       "        vertical-align: top;\n",
       "    }\n",
       "\n",
       "    .dataframe thead th {\n",
       "        text-align: right;\n",
       "    }\n",
       "</style>\n",
       "<table border=\"1\" class=\"dataframe\">\n",
       "  <thead>\n",
       "    <tr style=\"text-align: right;\">\n",
       "      <th></th>\n",
       "      <th>MEDV</th>\n",
       "    </tr>\n",
       "  </thead>\n",
       "  <tbody>\n",
       "    <tr>\n",
       "      <th>count</th>\n",
       "      <td>506.000000</td>\n",
       "    </tr>\n",
       "    <tr>\n",
       "      <th>mean</th>\n",
       "      <td>22.532806</td>\n",
       "    </tr>\n",
       "    <tr>\n",
       "      <th>std</th>\n",
       "      <td>9.197104</td>\n",
       "    </tr>\n",
       "    <tr>\n",
       "      <th>min</th>\n",
       "      <td>5.000000</td>\n",
       "    </tr>\n",
       "    <tr>\n",
       "      <th>25%</th>\n",
       "      <td>17.025000</td>\n",
       "    </tr>\n",
       "    <tr>\n",
       "      <th>50%</th>\n",
       "      <td>21.200000</td>\n",
       "    </tr>\n",
       "    <tr>\n",
       "      <th>75%</th>\n",
       "      <td>25.000000</td>\n",
       "    </tr>\n",
       "    <tr>\n",
       "      <th>max</th>\n",
       "      <td>50.000000</td>\n",
       "    </tr>\n",
       "  </tbody>\n",
       "</table>\n",
       "</div>"
      ],
      "text/plain": [
       "             MEDV\n",
       "count  506.000000\n",
       "mean    22.532806\n",
       "std      9.197104\n",
       "min      5.000000\n",
       "25%     17.025000\n",
       "50%     21.200000\n",
       "75%     25.000000\n",
       "max     50.000000"
      ]
     },
     "execution_count": 152,
     "metadata": {},
     "output_type": "execute_result"
    }
   ],
   "source": [
    "y.describe()"
   ]
  },
  {
   "cell_type": "code",
   "execution_count": 153,
   "metadata": {},
   "outputs": [
    {
     "name": "stdout",
     "output_type": "stream",
     "text": [
      "CRIM: 504\n",
      "ZN: 26\n",
      "INDUS: 76\n",
      "CHAS: 2\n",
      "NOX: 81\n",
      "RM: 446\n",
      "AGE: 356\n",
      "DIS: 412\n",
      "RAD: 9\n",
      "TAX: 66\n",
      "PTRATIO: 46\n",
      "B: 357\n",
      "LSTAT: 455\n",
      "\n",
      "MEDV:  229\n"
     ]
    }
   ],
   "source": [
    "# number of unique values for each column\n",
    "# Use apply to get all of the columns from the Feature dataframe X\n",
    "X.apply(lambda x: print(str(x.name) + \": \" + str(len(x.unique()))));\n",
    "print()\n",
    "print(\"MEDV: \", len(y['MEDV'].unique()))"
   ]
  },
  {
   "cell_type": "markdown",
   "metadata": {},
   "source": [
    "## Using `scikit-learn` Linear Regression\n",
    "\n",
    "### 2. Pick 3-4 predictors (i.e. CRIM, ZN, etc...) that you will use to predict our target variable, MEDV.\n",
    "You **must** justify the choice of your predictors. Score and plot your predictions. What do these results tell us?"
   ]
  },
  {
   "cell_type": "code",
   "execution_count": 154,
   "metadata": {},
   "outputs": [],
   "source": [
    "import seaborn as sns"
   ]
  },
  {
   "cell_type": "code",
   "execution_count": 155,
   "metadata": {},
   "outputs": [
    {
     "data": {
      "image/png": "[encoded data removed]",
      "text/plain": [
       "<Figure size 432x288 with 2 Axes>"
      ]
     },
     "metadata": {},
     "output_type": "display_data"
    }
   ],
   "source": [
    "# Look at a heatmap to get a sense of correlations, only need to\n",
    "# grab the 'MEDV' column because that's the only correlation we\n",
    "# care about right now\n",
    "# Use '.concat()' to join X with y so we can use the resulting \n",
    "# dataframe to more easily see the correlations between our y\n",
    "# variable and each of our X variables\n",
    "sns.heatmap(pd.concat([X, y], axis = 1).corr()[['MEDV']], \n",
    "            cmap = 'bwr', vmin = -1);"
   ]
  },
  {
   "cell_type": "code",
   "execution_count": 156,
   "metadata": {},
   "outputs": [
    {
     "data": {
      "text/plain": [
       "MEDV       1.000000\n",
       "LSTAT      0.737663\n",
       "RM         0.695360\n",
       "PTRATIO    0.507787\n",
       "INDUS      0.483725\n",
       "TAX        0.468536\n",
       "NOX        0.427321\n",
       "CRIM       0.385832\n",
       "RAD        0.381626\n",
       "AGE        0.376955\n",
       "ZN         0.360445\n",
       "B          0.333461\n",
       "DIS        0.249929\n",
       "CHAS       0.175260\n",
       "Name: MEDV, dtype: float64"
      ]
     },
     "execution_count": 156,
     "metadata": {},
     "output_type": "execute_result"
    }
   ],
   "source": [
    "# Since the heatmap above shows a lot of strong correlations,\n",
    "# look at the absolute values of these correlations \n",
    "# to figure out which ones have the greatest influence on MEDV\n",
    "pd.concat([X,y], \n",
    "          axis = 1).corr()['MEDV'].abs().sort_values(ascending=False)"
   ]
  },
  {
   "cell_type": "code",
   "execution_count": 157,
   "metadata": {},
   "outputs": [
    {
     "data": {
      "text/plain": [
       "('RM', 'PTRATIO', 'TAX', 'CRIM')"
      ]
     },
     "execution_count": 157,
     "metadata": {},
     "output_type": "execute_result"
    }
   ],
   "source": [
    "# Top candidates are LSTAT, RM, PTRATIO, and/or INDUS\n",
    "# but we want to avoid too much intercorrelation &\n",
    "# most of these are pretty strongly correlated with MEDV anyways\n",
    "# Cycle through top 7 to determine which combination of 4 variables\n",
    "# has best combination of correlation with MEDV and least \n",
    "# inter-correlation with each other\n",
    "# itertools from:\n",
    "# https://stackoverflow.com/questions/5360220/\n",
    "# how-to-split-a-list-into-pairs-in-all-possible-ways?lq=1\n",
    "import itertools\n",
    "# Creating a list of the top candidates from the output above\n",
    "top_cands = ['LSTAT', 'RM', 'PTRATIO', 'INDUS', 'TAX', 'NOX', 'CRIM']\n",
    "# Break these into all possible combinations of 4 using itertools\n",
    "combos = list(itertools.combinations(top_cands, 4))\n",
    "# Create a dictionary with the total correlations between each \n",
    "# combination as the keys and the combinations themselves as the values\n",
    "best_corr = {}\n",
    "for combo in combos:\n",
    "    best_corr[(pd.concat([X,y], axis = 1).corr().loc[list(combo),'MEDV'].abs().sum() - \n",
    "              X.corr().abs().loc[list(combo)[1:],combo[0]].sum())] = combo\n",
    "\n",
    "# Finally get the combination with the best combination\n",
    "# of maximum correlation with 'MEDV' and\n",
    "# smallest inter-correlation value\n",
    "best_corr[max(best_corr.keys())]"
   ]
  },
  {
   "cell_type": "markdown",
   "metadata": {},
   "source": [
    "Based on the above code to evaluate the best weighting of all 4 of the top half of the variables against their intercorrelation, the best 4 variables to use are: __RM, PTRATIO, TAX, and CRIM__"
   ]
  },
  {
   "cell_type": "markdown",
   "metadata": {},
   "source": [
    "### 3. Try 70/30 and 90/10 train/test splits (70% of the data for training - 30% for testing, then 90% for training - 10% for testing)\n",
    "Score and plot. How do your metrics change? What does this tell us about the size of training/testing splits?"
   ]
  },
  {
   "cell_type": "code",
   "execution_count": 158,
   "metadata": {},
   "outputs": [],
   "source": [
    "from sklearn import metrics\n",
    "from sklearn.linear_model import LinearRegression\n",
    "from sklearn.model_selection import train_test_split\n",
    "# We can get our features from the 'best_corr' dictionary we\n",
    "# created from the last step\n",
    "features = list(best_corr[max(best_corr.keys())])\n",
    "# from class - our X variable needs to be a DF\n",
    "X_model = X[features]\n",
    "# while our y variable can be a series\n",
    "y_model = y['MEDV']"
   ]
  },
  {
   "cell_type": "code",
   "execution_count": 160,
   "metadata": {},
   "outputs": [],
   "source": [
    "# Baseline score: checking the RMSE with the 'null' values of\n",
    "# all predictions being the mean MEDV value - with default split\n",
    "# using random_state of 25 for all tests so that\n",
    "# results are repeatable\n",
    "# Since there are going to be 3 models, they\n",
    "# will be denoted with '_0', '_1', and '_2'\n",
    "X_train_0, X_test_0, y_train_0, y_test_0 = train_test_split(\n",
    "    X_model, y_model, random_state=25)"
   ]
  },
  {
   "cell_type": "code",
   "execution_count": 161,
   "metadata": {},
   "outputs": [
    {
     "data": {
      "text/plain": [
       "array([22.31889764, 22.31889764, 22.31889764, 22.31889764, 22.31889764,\n",
       "       22.31889764, 22.31889764, 22.31889764, 22.31889764, 22.31889764,\n",
       "       22.31889764, 22.31889764, 22.31889764, 22.31889764, 22.31889764,\n",
       "       22.31889764, 22.31889764, 22.31889764, 22.31889764, 22.31889764,\n",
       "       22.31889764, 22.31889764, 22.31889764, 22.31889764, 22.31889764,\n",
       "       22.31889764, 22.31889764, 22.31889764, 22.31889764, 22.31889764,\n",
       "       22.31889764, 22.31889764, 22.31889764, 22.31889764, 22.31889764,\n",
       "       22.31889764, 22.31889764, 22.31889764, 22.31889764, 22.31889764,\n",
       "       22.31889764, 22.31889764, 22.31889764, 22.31889764, 22.31889764,\n",
       "       22.31889764, 22.31889764, 22.31889764, 22.31889764, 22.31889764,\n",
       "       22.31889764, 22.31889764, 22.31889764, 22.31889764, 22.31889764,\n",
       "       22.31889764, 22.31889764, 22.31889764, 22.31889764, 22.31889764,\n",
       "       22.31889764, 22.31889764, 22.31889764, 22.31889764, 22.31889764,\n",
       "       22.31889764, 22.31889764, 22.31889764, 22.31889764, 22.31889764,\n",
       "       22.31889764, 22.31889764, 22.31889764, 22.31889764, 22.31889764,\n",
       "       22.31889764, 22.31889764, 22.31889764, 22.31889764, 22.31889764,\n",
       "       22.31889764, 22.31889764, 22.31889764, 22.31889764, 22.31889764,\n",
       "       22.31889764, 22.31889764, 22.31889764, 22.31889764, 22.31889764,\n",
       "       22.31889764, 22.31889764, 22.31889764, 22.31889764, 22.31889764,\n",
       "       22.31889764, 22.31889764, 22.31889764, 22.31889764, 22.31889764,\n",
       "       22.31889764, 22.31889764, 22.31889764, 22.31889764, 22.31889764,\n",
       "       22.31889764, 22.31889764, 22.31889764, 22.31889764, 22.31889764,\n",
       "       22.31889764, 22.31889764, 22.31889764, 22.31889764, 22.31889764,\n",
       "       22.31889764, 22.31889764, 22.31889764, 22.31889764, 22.31889764,\n",
       "       22.31889764, 22.31889764, 22.31889764, 22.31889764, 22.31889764,\n",
       "       22.31889764, 22.31889764])"
      ]
     },
     "execution_count": 161,
     "metadata": {},
     "output_type": "execute_result"
    }
   ],
   "source": [
    "# This line is from class to make a series with the same\n",
    "# number of entries as our 'y_test' variable\n",
    "y_null = np.zeros_like(y_test_0, dtype=float)\n",
    "y_null.fill(y_test_0.mean())\n",
    "# Verify that our output is correct (numPy array of mean value)\n",
    "y_null"
   ]
  },
  {
   "cell_type": "code",
   "execution_count": 162,
   "metadata": {},
   "outputs": [
    {
     "name": "stdout",
     "output_type": "stream",
     "text": [
      "Null model RMSE:  8.452961390253273\n"
     ]
    }
   ],
   "source": [
    "# Get the RMSE of this null case\n",
    "print('Null model RMSE: ', \n",
    "      np.sqrt(metrics.mean_squared_error(y_test_0, y_null)))"
   ]
  },
  {
   "cell_type": "code",
   "execution_count": 163,
   "metadata": {},
   "outputs": [],
   "source": [
    "# plot y_test outputs against residuals\n",
    "resid_0 = y_test_0 - y_null"
   ]
  },
  {
   "cell_type": "code",
   "execution_count": 164,
   "metadata": {},
   "outputs": [
    {
     "data": {
      "image/png": "[encoded data removed]",
      "text/plain": [
       "<Figure size 432x288 with 1 Axes>"
      ]
     },
     "metadata": {},
     "output_type": "display_data"
    }
   ],
   "source": [
    "plt.scatter(y_null, resid_0)\n",
    "plt.hlines(0, 0, 55)\n",
    "plt.xlim(0,55);\n",
    "plt.xlabel('Null y values')\n",
    "plt.ylabel('Null Model Residuals');"
   ]
  },
  {
   "cell_type": "code",
   "execution_count": 165,
   "metadata": {},
   "outputs": [],
   "source": [
    "# 70/30\n",
    "# test_size, train_size attributes from:\n",
    "#http://scikit-learn.org/stable/modules/generated/\n",
    "# sklearn.model_selection.train_test_split.html\n",
    "X_train_1, X_test_1, y_train_1, y_test_1 = train_test_split(\n",
    "    X_model, y_model, random_state=25, test_size = 0.3, train_size=0.7)"
   ]
  },
  {
   "cell_type": "code",
   "execution_count": 166,
   "metadata": {},
   "outputs": [],
   "source": [
    "# This time actually fit a linear regression model using\n",
    "# the '.predict()' method with the x and y training data\n",
    "lr_1 = LinearRegression()\n",
    "lr_1.fit(X_train_1, y_train_1)\n",
    "# Our predictions are made with the X test data\n",
    "y_pred_1 = lr_1.predict(X_test_1)"
   ]
  },
  {
   "cell_type": "code",
   "execution_count": 167,
   "metadata": {},
   "outputs": [
    {
     "name": "stdout",
     "output_type": "stream",
     "text": [
      "70/30 split RMSE:  5.874382024009352\n"
     ]
    }
   ],
   "source": [
    "# Check the RMSE of this split and see if we did better than\n",
    "# baseline\n",
    "print(\"70/30 split RMSE: \", np.sqrt(\n",
    "    metrics.mean_squared_error(y_test_1, y_pred_1)))"
   ]
  },
  {
   "cell_type": "code",
   "execution_count": 168,
   "metadata": {},
   "outputs": [],
   "source": [
    "# Get these residuals and see if they have a better distribution\n",
    "resid_1 = y_test_1 - y_pred_1"
   ]
  },
  {
   "cell_type": "code",
   "execution_count": 169,
   "metadata": {},
   "outputs": [
    {
     "data": {
      "image/png": "[encoded data removed]",
      "text/plain": [
       "<Figure size 432x288 with 1 Axes>"
      ]
     },
     "metadata": {},
     "output_type": "display_data"
    }
   ],
   "source": [
    "plt.scatter(y_pred_1, resid_1)\n",
    "plt.hlines(0, 0, 55)\n",
    "plt.xlim(0, 55)\n",
    "plt.xlabel('70/30 Model Predictions')\n",
    "plt.ylabel('70/30 Model Residuals');"
   ]
  },
  {
   "cell_type": "code",
   "execution_count": 170,
   "metadata": {},
   "outputs": [],
   "source": [
    "# 90/10\n",
    "# repeat the same steps as with the previous split, but use\n",
    "# different 'test_size' and 'train_size' variables\n",
    "X_train_2, X_test_2, y_train_2, y_test_2 = train_test_split(\n",
    "X_model, y_model, random_state=25, test_size=0.1, train_size=0.9)"
   ]
  },
  {
   "cell_type": "code",
   "execution_count": 171,
   "metadata": {},
   "outputs": [],
   "source": [
    "lr_2 = LinearRegression()\n",
    "lr_2.fit(X_train_2, y_train_2)\n",
    "y_pred_2 = lr_2.predict(X_test_2)"
   ]
  },
  {
   "cell_type": "code",
   "execution_count": 172,
   "metadata": {},
   "outputs": [
    {
     "name": "stdout",
     "output_type": "stream",
     "text": [
      "90/10 split RMSE:  7.853646371773128\n"
     ]
    }
   ],
   "source": [
    "print(\"90/10 split RMSE: \", np.sqrt(\n",
    "    metrics.mean_squared_error(y_test_2, y_pred_2)))"
   ]
  },
  {
   "cell_type": "code",
   "execution_count": 173,
   "metadata": {},
   "outputs": [],
   "source": [
    "resid_2 = y_test_2 - y_pred_2"
   ]
  },
  {
   "cell_type": "code",
   "execution_count": 174,
   "metadata": {},
   "outputs": [
    {
     "data": {
      "image/png": "[encoded data removed]",
      "text/plain": [
       "<Figure size 432x288 with 1 Axes>"
      ]
     },
     "metadata": {},
     "output_type": "display_data"
    }
   ],
   "source": [
    "plt.scatter(y_pred_2, resid_2)\n",
    "plt.hlines(0, 0, 55)\n",
    "plt.xlim(0, 55)\n",
    "plt.xlabel('90/10 Model Predictions')\n",
    "plt.ylabel('90/10 Model Residuals');"
   ]
  },
  {
   "cell_type": "markdown",
   "metadata": {},
   "source": [
    "### Conclusion\n",
    "It appears that using more data can make our predictions worse if it leads to over-fitting/higher variance"
   ]
  },
  {
   "cell_type": "markdown",
   "metadata": {},
   "source": [
    "### 4. Use k-fold cross validation varying the number of folds from 5 to 10\n",
    "What seems optimal? How do your scores change? What is the variance like? Try different folds to get a sense of how this impacts your score. What are the tradeoffs associated with choosing the number of folds?"
   ]
  },
  {
   "cell_type": "code",
   "execution_count": 175,
   "metadata": {},
   "outputs": [],
   "source": [
    "# Adding cross_val_score to easily perform averaging of K-fold models\n",
    "from sklearn.model_selection import KFold, cross_val_score\n",
    "# To make this section easier, creating a function to loop\n",
    "# through a range of 'k's' to evaluate the model at each of\n",
    "# those iteration sizes\n",
    "# using default values of '5' and '10' to address the problem\n",
    "# statement\n",
    "def kf_score_range(start=5, end=10):\n",
    "    for i in range(start, end+1):\n",
    "        # initialize the linreg and kf models at the\n",
    "        # start of each iteration\n",
    "        linreg = LinearRegression()\n",
    "        kf = KFold(n_splits=i, shuffle=True)\n",
    "        # print out the number of folds\n",
    "        # the mean RMSE\n",
    "        # and variance for each iteration\n",
    "        # 'explained_variance' keyword from:\n",
    "        # http://scikit-learn.org/stable/modules/model_evaluation.html\n",
    "        print(\"Folds: \", i)\n",
    "        print(\"----------------\")\n",
    "        print(\"Average RMSE: \", np.mean(\n",
    "            np.sqrt(-cross_val_score(lr_1, X_model, y_model, cv=kf, \n",
    "                             scoring = 'neg_mean_squared_error', n_jobs=1))\n",
    "        ))\n",
    "        print(\"Average R-squared: \", np.mean(\n",
    "            cross_val_score(linreg, X_model, y_model, cv=kf, n_jobs=1)))\n",
    "        print(\"Average Variance: \", np.mean(\n",
    "            cross_val_score(linreg, X_model, y_model, cv=kf,\n",
    "                            scoring = 'explained_variance', n_jobs=1)))\n",
    "        print('\\n')\n",
    "    return"
   ]
  },
  {
   "cell_type": "code",
   "execution_count": 176,
   "metadata": {},
   "outputs": [
    {
     "name": "stdout",
     "output_type": "stream",
     "text": [
      "Folds:  5\n",
      "----------------\n",
      "Average RMSE:  5.790934083739091\n",
      "Average R-squared:  0.5690948181868922\n",
      "Average Variance:  0.58923369580657\n",
      "\n",
      "\n",
      "Folds:  6\n",
      "----------------\n",
      "Average RMSE:  5.788460593283158\n",
      "Average R-squared:  0.5997847184626316\n",
      "Average Variance:  0.6008365118144353\n",
      "\n",
      "\n",
      "Folds:  7\n",
      "----------------\n",
      "Average RMSE:  5.691280879206233\n",
      "Average R-squared:  0.6096039827610468\n",
      "Average Variance:  0.5870823666162772\n",
      "\n",
      "\n",
      "Folds:  8\n",
      "----------------\n",
      "Average RMSE:  5.72327737802647\n",
      "Average R-squared:  0.5282224864342937\n",
      "Average Variance:  0.5945820285065166\n",
      "\n",
      "\n",
      "Folds:  9\n",
      "----------------\n",
      "Average RMSE:  5.686013966047376\n",
      "Average R-squared:  0.5795186088124784\n",
      "Average Variance:  0.5932508827086423\n",
      "\n",
      "\n",
      "Folds:  10\n",
      "----------------\n",
      "Average RMSE:  5.719442271901727\n",
      "Average R-squared:  0.5955206874905774\n",
      "Average Variance:  0.6052941339977143\n",
      "\n",
      "\n"
     ]
    }
   ],
   "source": [
    "# Show default range request by problem statement\n",
    "kf_score_range()"
   ]
  },
  {
   "cell_type": "markdown",
   "metadata": {},
   "source": [
    "### Evaluation:\n",
    "Within the range of 5 - 10 folds, nothing much changes, the optimum appears to be '10' folds, with average RMSE adn Variance generally going down as the number of folds increases\n",
    "\n",
    "__NOTE:__ KFold() is instantiated with 'shuffle = True' so the results\n",
    "are not the same every time"
   ]
  },
  {
   "cell_type": "code",
   "execution_count": 177,
   "metadata": {},
   "outputs": [
    {
     "name": "stdout",
     "output_type": "stream",
     "text": [
      "Folds:  2\n",
      "----------------\n",
      "Average RMSE:  5.854703255925564\n",
      "Average R-squared:  0.5954711908845227\n",
      "Average Variance:  0.6055280290443896\n",
      "\n",
      "\n",
      "Folds:  3\n",
      "----------------\n",
      "Average RMSE:  5.8454474326223185\n",
      "Average R-squared:  0.5942820338154414\n",
      "Average Variance:  0.5985878968791776\n",
      "\n",
      "\n",
      "Folds:  4\n",
      "----------------\n",
      "Average RMSE:  5.84468645406089\n",
      "Average R-squared:  0.5930833119837347\n",
      "Average Variance:  0.6042201022673472\n",
      "\n",
      "\n",
      "Folds:  5\n",
      "----------------\n",
      "Average RMSE:  5.801432698474271\n",
      "Average R-squared:  0.6024604121004578\n",
      "Average Variance:  0.596643340297897\n",
      "\n",
      "\n",
      "Folds:  6\n",
      "----------------\n",
      "Average RMSE:  5.724082420298752\n",
      "Average R-squared:  0.5784023547990977\n",
      "Average Variance:  0.5803561561470988\n",
      "\n",
      "\n",
      "Folds:  7\n",
      "----------------\n",
      "Average RMSE:  5.735987715373966\n",
      "Average R-squared:  0.5983176616717437\n",
      "Average Variance:  0.5655558486953427\n",
      "\n",
      "\n",
      "Folds:  8\n",
      "----------------\n",
      "Average RMSE:  5.648508507434368\n",
      "Average R-squared:  0.5885263906328063\n",
      "Average Variance:  0.606720963603285\n",
      "\n",
      "\n",
      "Folds:  9\n",
      "----------------\n",
      "Average RMSE:  5.800168587070671\n",
      "Average R-squared:  0.5807691011424387\n",
      "Average Variance:  0.6214675058303105\n",
      "\n",
      "\n",
      "Folds:  10\n",
      "----------------\n",
      "Average RMSE:  5.683390311168049\n",
      "Average R-squared:  0.5611398925325626\n",
      "Average Variance:  0.5836006635513432\n",
      "\n",
      "\n",
      "Folds:  11\n",
      "----------------\n",
      "Average RMSE:  5.73890813832148\n",
      "Average R-squared:  0.5426460880012237\n",
      "Average Variance:  0.5983323296397349\n",
      "\n",
      "\n",
      "Folds:  12\n",
      "----------------\n",
      "Average RMSE:  5.678211739555187\n",
      "Average R-squared:  0.5828057721150662\n",
      "Average Variance:  0.6024323289939879\n",
      "\n",
      "\n",
      "Folds:  13\n",
      "----------------\n",
      "Average RMSE:  5.655272864722538\n",
      "Average R-squared:  0.5832646738780564\n",
      "Average Variance:  0.5960913331940768\n",
      "\n",
      "\n",
      "Folds:  14\n",
      "----------------\n",
      "Average RMSE:  5.646611144080367\n",
      "Average R-squared:  0.5682789407844121\n",
      "Average Variance:  0.5929655704911783\n",
      "\n",
      "\n",
      "Folds:  15\n",
      "----------------\n",
      "Average RMSE:  5.663954793488154\n",
      "Average R-squared:  0.5930380700251708\n",
      "Average Variance:  0.5974600170942161\n",
      "\n",
      "\n",
      "Folds:  16\n",
      "----------------\n",
      "Average RMSE:  5.631714798311745\n",
      "Average R-squared:  0.5791515513554029\n",
      "Average Variance:  0.5970621442223175\n",
      "\n",
      "\n",
      "Folds:  17\n",
      "----------------\n",
      "Average RMSE:  5.653606542637488\n",
      "Average R-squared:  0.5783518490374947\n",
      "Average Variance:  0.592078425002018\n",
      "\n",
      "\n",
      "Folds:  18\n",
      "----------------\n",
      "Average RMSE:  5.600262672690165\n",
      "Average R-squared:  0.5484383443477194\n",
      "Average Variance:  0.6009097791173007\n",
      "\n",
      "\n",
      "Folds:  19\n",
      "----------------\n",
      "Average RMSE:  5.598890341138331\n",
      "Average R-squared:  0.5824175273027805\n",
      "Average Variance:  0.5849372215975082\n",
      "\n",
      "\n",
      "Folds:  20\n",
      "----------------\n",
      "Average RMSE:  5.5309205228790175\n",
      "Average R-squared:  0.5968926323589051\n",
      "Average Variance:  0.5255536066172092\n",
      "\n",
      "\n"
     ]
    }
   ],
   "source": [
    "# Since we don't see too much change in the 5-10 range, \n",
    "# lets try with a wider range - also showing that the\n",
    "# function works with specified inputs\n",
    "kf_score_range(2, 20)"
   ]
  },
  {
   "cell_type": "code",
   "execution_count": 178,
   "metadata": {},
   "outputs": [],
   "source": [
    "# Still doesn't vary that much accross number of folds..."
   ]
  },
  {
   "cell_type": "markdown",
   "metadata": {},
   "source": [
    "# KNN Practice"
   ]
  },
  {
   "cell_type": "code",
   "execution_count": 99,
   "metadata": {},
   "outputs": [],
   "source": [
    "# Read the iris data into a DataFrame\n",
    "url = 'http://archive.ics.uci.edu/ml/machine-learning-databases/iris/iris.data'\n",
    "\n",
    "col_names = ['sepal_length', 'sepal_width', 'petal_length', 'petal_width', 'species']\n",
    "iris = pd.read_csv(url, header=None, names=col_names)"
   ]
  },
  {
   "cell_type": "code",
   "execution_count": 100,
   "metadata": {},
   "outputs": [],
   "source": [
    "iris.head()\n",
    "\n",
    "# Increase the default figure and font sizes for easier viewing\n",
    "plt.rcParams['figure.figsize'] = (6, 4)\n",
    "plt.rcParams['font.size'] = 14"
   ]
  },
  {
   "cell_type": "code",
   "execution_count": 101,
   "metadata": {},
   "outputs": [],
   "source": [
    "# Create a custom colormap\n",
    "from matplotlib.colors import ListedColormap\n",
    "\n",
    "cmap_bold = ListedColormap(['#FF0000', '#00FF00', '#0000FF'])"
   ]
  },
  {
   "cell_type": "code",
   "execution_count": 102,
   "metadata": {},
   "outputs": [
    {
     "data": {
      "text/html": [
       "<div>\n",
       "<style scoped>\n",
       "    .dataframe tbody tr th:only-of-type {\n",
       "        vertical-align: middle;\n",
       "    }\n",
       "\n",
       "    .dataframe tbody tr th {\n",
       "        vertical-align: top;\n",
       "    }\n",
       "\n",
       "    .dataframe thead th {\n",
       "        text-align: right;\n",
       "    }\n",
       "</style>\n",
       "<table border=\"1\" class=\"dataframe\">\n",
       "  <thead>\n",
       "    <tr style=\"text-align: right;\">\n",
       "      <th></th>\n",
       "      <th>sepal_length</th>\n",
       "      <th>sepal_width</th>\n",
       "      <th>petal_length</th>\n",
       "      <th>petal_width</th>\n",
       "      <th>species</th>\n",
       "      <th>species_num</th>\n",
       "    </tr>\n",
       "  </thead>\n",
       "  <tbody>\n",
       "    <tr>\n",
       "      <th>0</th>\n",
       "      <td>5.1</td>\n",
       "      <td>3.5</td>\n",
       "      <td>1.4</td>\n",
       "      <td>0.2</td>\n",
       "      <td>Iris-setosa</td>\n",
       "      <td>0</td>\n",
       "    </tr>\n",
       "    <tr>\n",
       "      <th>1</th>\n",
       "      <td>4.9</td>\n",
       "      <td>3.0</td>\n",
       "      <td>1.4</td>\n",
       "      <td>0.2</td>\n",
       "      <td>Iris-setosa</td>\n",
       "      <td>0</td>\n",
       "    </tr>\n",
       "    <tr>\n",
       "      <th>2</th>\n",
       "      <td>4.7</td>\n",
       "      <td>3.2</td>\n",
       "      <td>1.3</td>\n",
       "      <td>0.2</td>\n",
       "      <td>Iris-setosa</td>\n",
       "      <td>0</td>\n",
       "    </tr>\n",
       "    <tr>\n",
       "      <th>3</th>\n",
       "      <td>4.6</td>\n",
       "      <td>3.1</td>\n",
       "      <td>1.5</td>\n",
       "      <td>0.2</td>\n",
       "      <td>Iris-setosa</td>\n",
       "      <td>0</td>\n",
       "    </tr>\n",
       "    <tr>\n",
       "      <th>4</th>\n",
       "      <td>5.0</td>\n",
       "      <td>3.6</td>\n",
       "      <td>1.4</td>\n",
       "      <td>0.2</td>\n",
       "      <td>Iris-setosa</td>\n",
       "      <td>0</td>\n",
       "    </tr>\n",
       "  </tbody>\n",
       "</table>\n",
       "</div>"
      ],
      "text/plain": [
       "   sepal_length  sepal_width  petal_length  petal_width      species  \\\n",
       "0           5.1          3.5           1.4          0.2  Iris-setosa   \n",
       "1           4.9          3.0           1.4          0.2  Iris-setosa   \n",
       "2           4.7          3.2           1.3          0.2  Iris-setosa   \n",
       "3           4.6          3.1           1.5          0.2  Iris-setosa   \n",
       "4           5.0          3.6           1.4          0.2  Iris-setosa   \n",
       "\n",
       "   species_num  \n",
       "0            0  \n",
       "1            0  \n",
       "2            0  \n",
       "3            0  \n",
       "4            0  "
      ]
     },
     "execution_count": 102,
     "metadata": {},
     "output_type": "execute_result"
    }
   ],
   "source": [
    "# Map each iris species to a number\n",
    "# Let's use 'Iris-setosa':0, 'Iris-versicolor':1, 'Iris-virginica':2 and create a column called 'species_num'\n",
    "# This is Directly from class (typed out):\n",
    "iris['species_num'] = iris['species'].map({'Iris-setosa':0, \n",
    "                                           'Iris-versicolor':1, \n",
    "                                           'Iris-virginica':2})\n",
    "iris.head()"
   ]
  },
  {
   "cell_type": "code",
   "execution_count": 115,
   "metadata": {},
   "outputs": [
    {
     "data": {
      "image/png": "[encoded data removed]",
      "text/plain": [
       "<Figure size 432x288 with 2 Axes>"
      ]
     },
     "metadata": {},
     "output_type": "display_data"
    }
   ],
   "source": [
    "# Create a scatterplot of PETAL LENGTH versus PETAL WIDTH and color by SPECIES\n",
    "# Colormap from:\n",
    "#https://matplotlib.org/users/colormaps.html\n",
    "iris.plot(kind='scatter', x='petal_length', y='petal_width', \n",
    "          c='species_num', colormap='Set1');"
   ]
  },
  {
   "cell_type": "code",
   "execution_count": 116,
   "metadata": {},
   "outputs": [
    {
     "data": {
      "image/png": "[encoded data removed]",
      "text/plain": [
       "<Figure size 432x288 with 2 Axes>"
      ]
     },
     "metadata": {},
     "output_type": "display_data"
    }
   ],
   "source": [
    "# Create a scatterplot of SEPAL LENGTH versus SEPAL WIDTH and color by SPECIES\n",
    "iris.plot(kind='scatter', x='sepal_length', y='sepal_width',\n",
    "         c = 'species_num', colormap='Set1');"
   ]
  },
  {
   "cell_type": "markdown",
   "metadata": {},
   "source": [
    "## KNN Classification of the Iris Dataset"
   ]
  },
  {
   "cell_type": "markdown",
   "metadata": {},
   "source": [
    "### Create your feature matrix \"X\"\n",
    "This will be all species measurements (sepal length, petal width, etc...)"
   ]
  },
  {
   "cell_type": "code",
   "execution_count": 123,
   "metadata": {},
   "outputs": [
    {
     "data": {
      "text/html": [
       "<div>\n",
       "<style scoped>\n",
       "    .dataframe tbody tr th:only-of-type {\n",
       "        vertical-align: middle;\n",
       "    }\n",
       "\n",
       "    .dataframe tbody tr th {\n",
       "        vertical-align: top;\n",
       "    }\n",
       "\n",
       "    .dataframe thead th {\n",
       "        text-align: right;\n",
       "    }\n",
       "</style>\n",
       "<table border=\"1\" class=\"dataframe\">\n",
       "  <thead>\n",
       "    <tr style=\"text-align: right;\">\n",
       "      <th></th>\n",
       "      <th>sepal_length</th>\n",
       "      <th>sepal_width</th>\n",
       "      <th>petal_length</th>\n",
       "      <th>petal_width</th>\n",
       "    </tr>\n",
       "  </thead>\n",
       "  <tbody>\n",
       "    <tr>\n",
       "      <th>0</th>\n",
       "      <td>5.1</td>\n",
       "      <td>3.5</td>\n",
       "      <td>1.4</td>\n",
       "      <td>0.2</td>\n",
       "    </tr>\n",
       "    <tr>\n",
       "      <th>1</th>\n",
       "      <td>4.9</td>\n",
       "      <td>3.0</td>\n",
       "      <td>1.4</td>\n",
       "      <td>0.2</td>\n",
       "    </tr>\n",
       "    <tr>\n",
       "      <th>2</th>\n",
       "      <td>4.7</td>\n",
       "      <td>3.2</td>\n",
       "      <td>1.3</td>\n",
       "      <td>0.2</td>\n",
       "    </tr>\n",
       "    <tr>\n",
       "      <th>3</th>\n",
       "      <td>4.6</td>\n",
       "      <td>3.1</td>\n",
       "      <td>1.5</td>\n",
       "      <td>0.2</td>\n",
       "    </tr>\n",
       "    <tr>\n",
       "      <th>4</th>\n",
       "      <td>5.0</td>\n",
       "      <td>3.6</td>\n",
       "      <td>1.4</td>\n",
       "      <td>0.2</td>\n",
       "    </tr>\n",
       "  </tbody>\n",
       "</table>\n",
       "</div>"
      ],
      "text/plain": [
       "   sepal_length  sepal_width  petal_length  petal_width\n",
       "0           5.1          3.5           1.4          0.2\n",
       "1           4.9          3.0           1.4          0.2\n",
       "2           4.7          3.2           1.3          0.2\n",
       "3           4.6          3.1           1.5          0.2\n",
       "4           5.0          3.6           1.4          0.2"
      ]
     },
     "execution_count": 123,
     "metadata": {},
     "output_type": "execute_result"
    }
   ],
   "source": [
    "# We can get our features by just taking a copy of the dataset\n",
    "# minus the 'species' variables\n",
    "X_iris = iris.drop(['species', 'species_num'], axis=1)\n",
    "# Make sure the X looks right\n",
    "X_iris.head()"
   ]
  },
  {
   "cell_type": "markdown",
   "metadata": {},
   "source": [
    "### Create your target vector \"y\"\n",
    "This will be the species type."
   ]
  },
  {
   "cell_type": "code",
   "execution_count": 179,
   "metadata": {},
   "outputs": [
    {
     "data": {
      "text/plain": [
       "0    0\n",
       "1    0\n",
       "2    0\n",
       "3    0\n",
       "4    0\n",
       "Name: species_num, dtype: int64"
      ]
     },
     "execution_count": 179,
     "metadata": {},
     "output_type": "execute_result"
    }
   ],
   "source": [
    "# Just need the categorical 'species_num' variable\n",
    "# from the original dataset & make sure it looks right\n",
    "y_iris = iris['species_num']\n",
    "y_iris.head()"
   ]
  },
  {
   "cell_type": "markdown",
   "metadata": {},
   "source": [
    "### Make Use of Train-Test-Split\n",
    "Split your data in to train and test sets."
   ]
  },
  {
   "cell_type": "code",
   "execution_count": 180,
   "metadata": {},
   "outputs": [],
   "source": [
    "(X_train_iris, X_test_iris, \n",
    "y_train_iris, y_test_iris) = train_test_split(\n",
    "                            X_iris, y_iris, random_state=25) "
   ]
  },
  {
   "cell_type": "markdown",
   "metadata": {},
   "source": [
    "### Import KNN From `scikit-learn` and Instatiate a Model With One Neighbor"
   ]
  },
  {
   "cell_type": "code",
   "execution_count": 182,
   "metadata": {},
   "outputs": [],
   "source": [
    "from sklearn.neighbors import KNeighborsClassifier\n",
    "# Create the model with a 'n_neighbors' value of 1\n",
    "knn_1 = KNeighborsClassifier(n_neighbors=1)"
   ]
  },
  {
   "cell_type": "markdown",
   "metadata": {},
   "source": [
    "### Check the Accuracy\n",
    "Train your model using the training set then use the test set to determine the accuracy"
   ]
  },
  {
   "cell_type": "code",
   "execution_count": 183,
   "metadata": {},
   "outputs": [
    {
     "data": {
      "text/plain": [
       "KNeighborsClassifier(algorithm='auto', leaf_size=30, metric='minkowski',\n",
       "           metric_params=None, n_jobs=1, n_neighbors=1, p=2,\n",
       "           weights='uniform')"
      ]
     },
     "execution_count": 183,
     "metadata": {},
     "output_type": "execute_result"
    }
   ],
   "source": [
    "# use .fit() to train the model\n",
    "knn_1.fit(X_train_iris, y_train_iris)"
   ]
  },
  {
   "cell_type": "code",
   "execution_count": 185,
   "metadata": {},
   "outputs": [
    {
     "name": "stdout",
     "output_type": "stream",
     "text": [
      "using metrics:  0.9210526315789473\n"
     ]
    }
   ],
   "source": [
    "# get predictions using test X data\n",
    "y_pred_iris = knn_1.predict(X_test_iris)\n",
    "# and get accuracy from the metrics library\n",
    "print('using metrics: ', metrics.accuracy_score(y_test_iris, y_pred_iris))"
   ]
  },
  {
   "cell_type": "code",
   "execution_count": 186,
   "metadata": {},
   "outputs": [
    {
     "name": "stdout",
     "output_type": "stream",
     "text": [
      "Model accuracy with 1 neighbor: 0.9210526315789473\n"
     ]
    }
   ],
   "source": [
    "# Verify that this is the same as uing the built-in KNN '.score()'\n",
    "# function\n",
    "print(\"Model accuracy with 1 neighbor:\", \n",
    "      knn_1.score(X_test_iris, y_test_iris))"
   ]
  },
  {
   "cell_type": "markdown",
   "metadata": {},
   "source": [
    "### Create a Model With Five Neighbors. Did it Improve?"
   ]
  },
  {
   "cell_type": "code",
   "execution_count": 187,
   "metadata": {},
   "outputs": [
    {
     "name": "stdout",
     "output_type": "stream",
     "text": [
      "Model accuracy with 5 neighbors: 0.9210526315789473\n"
     ]
    }
   ],
   "source": [
    "# Repeat above with 'n_neighbors' set to '5'\n",
    "knn_5 = KNeighborsClassifier(n_neighbors=5)\n",
    "knn_5.fit(X_train_iris, y_train_iris)\n",
    "print(\"Model accuracy with 5 neighbors:\", \n",
    "      knn_5.score(X_test_iris, y_test_iris))"
   ]
  },
  {
   "cell_type": "markdown",
   "metadata": {},
   "source": [
    "#### Analysis:\n",
    "The model does improve with 5 neighbors instead of 1 (by ~1%)"
   ]
  },
  {
   "cell_type": "markdown",
   "metadata": {},
   "source": [
    "### Create a Looped Function That Will Check All Levels of Various Neighbors and Calculate the Accuracy"
   ]
  },
  {
   "cell_type": "code",
   "execution_count": 188,
   "metadata": {},
   "outputs": [],
   "source": [
    "# Use similar logic as in the K-folds portion of the notebook\n",
    "def knn_accuracy(start=1, end=10):\n",
    "    for n in range(start, end+1):\n",
    "        knn=KNeighborsClassifier(n_neighbors=n)\n",
    "        knn.fit(X_train_iris, y_train_iris)\n",
    "        score = knn.score(X_test_iris, y_test_iris)\n",
    "        \n",
    "        print(\"KNN Model accuracy with \" + str(n) + \" Neighbor(s):\", \n",
    "             score)\n",
    "    return"
   ]
  },
  {
   "cell_type": "code",
   "execution_count": 189,
   "metadata": {},
   "outputs": [
    {
     "name": "stdout",
     "output_type": "stream",
     "text": [
      "KNN Model accuracy with 1 Neighbor(s): 0.9210526315789473\n",
      "KNN Model accuracy with 2 Neighbor(s): 0.9210526315789473\n",
      "KNN Model accuracy with 3 Neighbor(s): 0.9473684210526315\n",
      "KNN Model accuracy with 4 Neighbor(s): 0.9210526315789473\n",
      "KNN Model accuracy with 5 Neighbor(s): 0.9210526315789473\n",
      "KNN Model accuracy with 6 Neighbor(s): 0.9473684210526315\n",
      "KNN Model accuracy with 7 Neighbor(s): 0.9473684210526315\n",
      "KNN Model accuracy with 8 Neighbor(s): 0.9736842105263158\n",
      "KNN Model accuracy with 9 Neighbor(s): 0.9736842105263158\n",
      "KNN Model accuracy with 10 Neighbor(s): 0.9736842105263158\n"
     ]
    }
   ],
   "source": [
    "# Show the default 1 through 10 case\n",
    "knn_accuracy()"
   ]
  },
  {
   "cell_type": "code",
   "execution_count": 190,
   "metadata": {},
   "outputs": [
    {
     "name": "stdout",
     "output_type": "stream",
     "text": [
      "KNN Model accuracy with 7 Neighbor(s): 0.9473684210526315\n",
      "KNN Model accuracy with 8 Neighbor(s): 0.9736842105263158\n",
      "KNN Model accuracy with 9 Neighbor(s): 0.9736842105263158\n",
      "KNN Model accuracy with 10 Neighbor(s): 0.9736842105263158\n",
      "KNN Model accuracy with 11 Neighbor(s): 0.9736842105263158\n",
      "KNN Model accuracy with 12 Neighbor(s): 0.9736842105263158\n",
      "KNN Model accuracy with 13 Neighbor(s): 0.9736842105263158\n"
     ]
    }
   ],
   "source": [
    "# Show custom range input\n",
    "knn_accuracy(7, 13)"
   ]
  },
  {
   "cell_type": "markdown",
   "metadata": {},
   "source": [
    "### Bonus: According to `scikit-learn` Documentation, What is `knn.predict_proba(X_new)` Going to Do?"
   ]
  },
  {
   "cell_type": "markdown",
   "metadata": {},
   "source": [
    "__From the Docstring:__\n",
    "\"Return probability estimates for the test data X.\"\n",
    "\n",
    "__From http://scikit-learn.org/stable/modules/generated/sklearn.neighbors.KNeighborsClassifier.html#sklearn.neighbors.KNeighborsClassifier.predict_proba:__\n",
    "knn.predict_proba(X_new) is going to return a numpy array of lists for each row in X_new,  each list holding the probability of each entry being a given Iris species.  So in this case, each list will have 3 entries of probabilities adding up to 1.0\n"
   ]
  },
  {
   "cell_type": "markdown",
   "metadata": {},
   "source": [
    "## Enrichment\n",
    "_Everything beyond this point is enrichment and examples using Statsmodels for linear regression._"
   ]
  },
  {
   "cell_type": "markdown",
   "metadata": {},
   "source": [
    "### Example: Using the Statsmodels Formula\n",
    "\n",
    "Adapt the formula example using your metrics. We will review this implementation in class. Here is a reference to consider. The workflow is the same, but the syntax is a little different. We want to get accustomed to the formula syntax because we will be using them a lot more with regressions. The results should be comparable to scikit-learn's regression models."
   ]
  },
  {
   "cell_type": "code",
   "execution_count": null,
   "metadata": {},
   "outputs": [],
   "source": [
    "# First, format our data in a DataFrame\n",
    "\n",
    "df = pd.DataFrame(boston.data, columns=boston.feature_names)\n",
    "df['MEDV'] = boston.target\n",
    "df.head()"
   ]
  },
  {
   "cell_type": "code",
   "execution_count": null,
   "metadata": {},
   "outputs": [],
   "source": [
    "# Set up our new statsmodel.formula handling model\n",
    "import statsmodels.formula.api as smf\n",
    "\n",
    "# You can easily swap these out to test multiple versions/different formulas\n",
    "formulas = {\n",
    "    \"case1\": \"MEDV ~ RM + LSTAT + RAD + TAX + NOX + INDUS + CRIM + ZN - 1\", # - 1 = remove intercept\n",
    "    \"case2\": \"MEDV ~ NOX + RM\",\n",
    "    \"case3\": \"MEDV ~ RAD + TAX\"\n",
    "}\n",
    "\n",
    "model = smf.ols(formula=formulas['case1'], data=df)\n",
    "result = model.fit()\n",
    "\n",
    "result.summary()"
   ]
  },
  {
   "cell_type": "markdown",
   "metadata": {},
   "source": [
    "### Bonus Challenge #1:\n",
    "\n",
    "Can you optimize your R2, selecting the best features and using either test-train split or k-folds?"
   ]
  },
  {
   "cell_type": "code",
   "execution_count": null,
   "metadata": {},
   "outputs": [],
   "source": []
  },
  {
   "cell_type": "markdown",
   "metadata": {},
   "source": [
    "### Bonus Challenge #2:\n",
    "\n",
    "Given a combination of predictors, can you find another response variable that can be accurately predicted through the exploration of different predictors in this data set?\n",
    "\n",
    "_Tip: Check out pairplots, coefficients, and Pearson scores._"
   ]
  },
  {
   "cell_type": "code",
   "execution_count": null,
   "metadata": {},
   "outputs": [],
   "source": [
    "# Check out variable relations\n",
    "import seaborn as sns\n",
    "\n",
    "sns.pairplot(X);"
   ]
  },
  {
   "cell_type": "code",
   "execution_count": null,
   "metadata": {},
   "outputs": [],
   "source": [
    "# Check out Pearson scores\n"
   ]
  },
  {
   "cell_type": "markdown",
   "metadata": {},
   "source": [
    "## Demo: Patsy"
   ]
  },
  {
   "cell_type": "code",
   "execution_count": null,
   "metadata": {},
   "outputs": [],
   "source": [
    "import patsy\n",
    "\n",
    "# Add response to the core DataFrame\n",
    "df['MEDV'] = y"
   ]
  },
  {
   "cell_type": "code",
   "execution_count": null,
   "metadata": {},
   "outputs": [],
   "source": [
    "from sklearn.model_selection import train_test_split #If you didn't import it earlier, do so now\n",
    "\n",
    "# Easily change your variable predictors without reslicing your DataFrame\n",
    "y, X = patsy.dmatrices(\"MEDV ~ AGE + RM\", data=df, return_type=\"dataframe\")\n",
    "\n",
    "X_train, X_test, y_train, y_test = train_test_split(X, y, train_size=.7)\n"
   ]
  },
  {
   "cell_type": "code",
   "execution_count": null,
   "metadata": {},
   "outputs": [],
   "source": [
    "from sklearn import metrics\n",
    "from sklearn.linear_model import LinearRegression\n",
    "\n",
    "# Rerun your model, iteratively changing your variables and train_size from the previous cell\n",
    "\n",
    "lm = LinearRegression()\n",
    "model = lm.fit(X_train, y_train)\n",
    "\n",
    "predictions = model.predict(X_test)\n",
    "print(\"R^2 Score: {}\".format(metrics.r2_score(y_test, predictions)))"
   ]
  },
  {
   "cell_type": "code",
   "execution_count": null,
   "metadata": {},
   "outputs": [],
   "source": []
  }
 ],
 "metadata": {
  "anaconda-cloud": {},
  "kernelspec": {
   "display_name": "Python 3",
   "language": "python",
   "name": "python3"
  },
  "language_info": {
   "codemirror_mode": {
    "name": "ipython",
    "version": 3
   },
   "file_extension": ".py",
   "mimetype": "text/x-python",
   "name": "python",
   "nbconvert_exporter": "python",
   "pygments_lexer": "ipython3",
   "version": "3.6.5"
  }
 },
 "nbformat": 4,
 "nbformat_minor": 1
}
