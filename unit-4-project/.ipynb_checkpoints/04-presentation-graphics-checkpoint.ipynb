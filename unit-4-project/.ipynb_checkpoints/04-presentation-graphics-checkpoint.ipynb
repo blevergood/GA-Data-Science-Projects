{
 "cells": [
  {
   "cell_type": "code",
   "execution_count": 1,
   "metadata": {},
   "outputs": [],
   "source": [
    "import pandas as pd\n",
    "import numpy as np\n",
    "import seaborn as sns\n",
    "from matplotlib import pyplot as plt\n",
    "from sklearn import preprocessing\n",
    "from pylab import savefig\n",
    "%matplotlib inline"
   ]
  },
  {
   "cell_type": "code",
   "execution_count": 2,
   "metadata": {},
   "outputs": [
    {
     "data": {
      "text/html": [
       "<div>\n",
       "<style scoped>\n",
       "    .dataframe tbody tr th:only-of-type {\n",
       "        vertical-align: middle;\n",
       "    }\n",
       "\n",
       "    .dataframe tbody tr th {\n",
       "        vertical-align: top;\n",
       "    }\n",
       "\n",
       "    .dataframe thead th {\n",
       "        text-align: right;\n",
       "    }\n",
       "</style>\n",
       "<table border=\"1\" class=\"dataframe\">\n",
       "  <thead>\n",
       "    <tr style=\"text-align: right;\">\n",
       "      <th></th>\n",
       "      <th>country</th>\n",
       "      <th>description</th>\n",
       "      <th>designation</th>\n",
       "      <th>points</th>\n",
       "      <th>price</th>\n",
       "      <th>province</th>\n",
       "      <th>region_1</th>\n",
       "      <th>region_2</th>\n",
       "      <th>taster_name</th>\n",
       "      <th>taster_twitter_handle</th>\n",
       "      <th>title</th>\n",
       "      <th>variety</th>\n",
       "      <th>winery</th>\n",
       "      <th>vintage</th>\n",
       "      <th>vintage_str_data</th>\n",
       "      <th>scaled_points</th>\n",
       "    </tr>\n",
       "  </thead>\n",
       "  <tbody>\n",
       "    <tr>\n",
       "      <th>1</th>\n",
       "      <td>Portugal</td>\n",
       "      <td>This is ripe and fruity, a wine that is smooth...</td>\n",
       "      <td>Avidagos</td>\n",
       "      <td>87</td>\n",
       "      <td>15.0</td>\n",
       "      <td>Douro</td>\n",
       "      <td>not_specified</td>\n",
       "      <td>not_specified</td>\n",
       "      <td>Roger Voss</td>\n",
       "      <td>@vossroger</td>\n",
       "      <td>Quinta dos Avidagos 2011 Avidagos Red (Douro)</td>\n",
       "      <td>Portuguese Red</td>\n",
       "      <td>Quinta dos Avidagos</td>\n",
       "      <td>2011</td>\n",
       "      <td>2011 Avidagos Red (Douro)</td>\n",
       "      <td>44.317767</td>\n",
       "    </tr>\n",
       "    <tr>\n",
       "      <th>2</th>\n",
       "      <td>US</td>\n",
       "      <td>Tart and snappy, the flavors of lime flesh and...</td>\n",
       "      <td>no_designation</td>\n",
       "      <td>87</td>\n",
       "      <td>14.0</td>\n",
       "      <td>Oregon</td>\n",
       "      <td>Willamette Valley</td>\n",
       "      <td>Willamette Valley</td>\n",
       "      <td>Paul Gregutt</td>\n",
       "      <td>@paulgwine</td>\n",
       "      <td>Rainstorm 2013 Pinot Gris (Willamette Valley)</td>\n",
       "      <td>Pinot Gris</td>\n",
       "      <td>Rainstorm</td>\n",
       "      <td>2013</td>\n",
       "      <td>2013 Pinot Gris (Willamette Valley)</td>\n",
       "      <td>41.982247</td>\n",
       "    </tr>\n",
       "    <tr>\n",
       "      <th>3</th>\n",
       "      <td>US</td>\n",
       "      <td>Pineapple rind, lemon pith and orange blossom ...</td>\n",
       "      <td>Reserve Late Harvest</td>\n",
       "      <td>87</td>\n",
       "      <td>13.0</td>\n",
       "      <td>Michigan</td>\n",
       "      <td>Lake Michigan Shore</td>\n",
       "      <td>not_specified</td>\n",
       "      <td>Alexander Peartree</td>\n",
       "      <td>no_twitter</td>\n",
       "      <td>St. Julian 2013 Reserve Late Harvest Riesling ...</td>\n",
       "      <td>Riesling</td>\n",
       "      <td>St. Julian</td>\n",
       "      <td>2013</td>\n",
       "      <td>2013 Reserve Late Harvest Riesling (Lake Mich...</td>\n",
       "      <td>57.575804</td>\n",
       "    </tr>\n",
       "    <tr>\n",
       "      <th>4</th>\n",
       "      <td>US</td>\n",
       "      <td>Much like the regular bottling from 2012, this...</td>\n",
       "      <td>Vintner's Reserve Wild Child Block</td>\n",
       "      <td>87</td>\n",
       "      <td>65.0</td>\n",
       "      <td>Oregon</td>\n",
       "      <td>Willamette Valley</td>\n",
       "      <td>Willamette Valley</td>\n",
       "      <td>Paul Gregutt</td>\n",
       "      <td>@paulgwine</td>\n",
       "      <td>Sweet Cheeks 2012 Vintner's Reserve Wild Child...</td>\n",
       "      <td>Pinot Noir</td>\n",
       "      <td>Sweet Cheeks</td>\n",
       "      <td>2012</td>\n",
       "      <td>2012 Vintner's Reserve Wild Child Block Pinot...</td>\n",
       "      <td>41.982247</td>\n",
       "    </tr>\n",
       "    <tr>\n",
       "      <th>5</th>\n",
       "      <td>Spain</td>\n",
       "      <td>Blackberry and raspberry aromas show a typical...</td>\n",
       "      <td>Ars In Vitro</td>\n",
       "      <td>87</td>\n",
       "      <td>15.0</td>\n",
       "      <td>Northern Spain</td>\n",
       "      <td>Navarra</td>\n",
       "      <td>not_specified</td>\n",
       "      <td>Michael Schachner</td>\n",
       "      <td>@wineschach</td>\n",
       "      <td>Tandem 2011 Ars In Vitro Tempranillo-Merlot (N...</td>\n",
       "      <td>Tempranillo-Merlot</td>\n",
       "      <td>Tandem</td>\n",
       "      <td>2011</td>\n",
       "      <td>2011 Ars In Vitro Tempranillo-Merlot (Navarra)</td>\n",
       "      <td>50.921302</td>\n",
       "    </tr>\n",
       "  </tbody>\n",
       "</table>\n",
       "</div>"
      ],
      "text/plain": [
       "    country                                        description  \\\n",
       "1  Portugal  This is ripe and fruity, a wine that is smooth...   \n",
       "2        US  Tart and snappy, the flavors of lime flesh and...   \n",
       "3        US  Pineapple rind, lemon pith and orange blossom ...   \n",
       "4        US  Much like the regular bottling from 2012, this...   \n",
       "5     Spain  Blackberry and raspberry aromas show a typical...   \n",
       "\n",
       "                          designation  points  price        province  \\\n",
       "1                            Avidagos      87   15.0           Douro   \n",
       "2                      no_designation      87   14.0          Oregon   \n",
       "3                Reserve Late Harvest      87   13.0        Michigan   \n",
       "4  Vintner's Reserve Wild Child Block      87   65.0          Oregon   \n",
       "5                        Ars In Vitro      87   15.0  Northern Spain   \n",
       "\n",
       "              region_1           region_2         taster_name  \\\n",
       "1        not_specified      not_specified          Roger Voss   \n",
       "2    Willamette Valley  Willamette Valley        Paul Gregutt   \n",
       "3  Lake Michigan Shore      not_specified  Alexander Peartree   \n",
       "4    Willamette Valley  Willamette Valley        Paul Gregutt   \n",
       "5              Navarra      not_specified   Michael Schachner   \n",
       "\n",
       "  taster_twitter_handle                                              title  \\\n",
       "1            @vossroger      Quinta dos Avidagos 2011 Avidagos Red (Douro)   \n",
       "2            @paulgwine      Rainstorm 2013 Pinot Gris (Willamette Valley)   \n",
       "3            no_twitter  St. Julian 2013 Reserve Late Harvest Riesling ...   \n",
       "4            @paulgwine  Sweet Cheeks 2012 Vintner's Reserve Wild Child...   \n",
       "5           @wineschach  Tandem 2011 Ars In Vitro Tempranillo-Merlot (N...   \n",
       "\n",
       "              variety               winery vintage  \\\n",
       "1      Portuguese Red  Quinta dos Avidagos    2011   \n",
       "2          Pinot Gris            Rainstorm    2013   \n",
       "3            Riesling           St. Julian    2013   \n",
       "4          Pinot Noir         Sweet Cheeks    2012   \n",
       "5  Tempranillo-Merlot               Tandem    2011   \n",
       "\n",
       "                                    vintage_str_data  scaled_points  \n",
       "1                          2011 Avidagos Red (Douro)      44.317767  \n",
       "2                2013 Pinot Gris (Willamette Valley)      41.982247  \n",
       "3   2013 Reserve Late Harvest Riesling (Lake Mich...      57.575804  \n",
       "4   2012 Vintner's Reserve Wild Child Block Pinot...      41.982247  \n",
       "5     2011 Ars In Vitro Tempranillo-Merlot (Navarra)      50.921302  "
      ]
     },
     "execution_count": 2,
     "metadata": {},
     "output_type": "execute_result"
    }
   ],
   "source": [
    "path = '../data/winemag-clean.csv'\n",
    "wine_clean = pd.read_csv(path, index_col = 0)\n",
    "wine_clean.head()"
   ]
  },
  {
   "cell_type": "code",
   "execution_count": 3,
   "metadata": {},
   "outputs": [],
   "source": [
    "wine_clean.drop(['vintage_str_data','scaled_points'], axis=1, inplace=True)"
   ]
  },
  {
   "cell_type": "code",
   "execution_count": 4,
   "metadata": {},
   "outputs": [
    {
     "data": {
      "text/plain": [
       "Index(['country', 'description', 'designation', 'points', 'price', 'province',\n",
       "       'region_1', 'region_2', 'taster_name', 'taster_twitter_handle', 'title',\n",
       "       'variety', 'winery', 'vintage'],\n",
       "      dtype='object')"
      ]
     },
     "execution_count": 4,
     "metadata": {},
     "output_type": "execute_result"
    }
   ],
   "source": [
    "wine_clean.columns"
   ]
  },
  {
   "cell_type": "code",
   "execution_count": 5,
   "metadata": {},
   "outputs": [
    {
     "data": {
      "image/png": "[encoded data removed]",
      "text/plain": [
       "<Figure size 432x288 with 2 Axes>"
      ]
     },
     "metadata": {},
     "output_type": "display_data"
    }
   ],
   "source": [
    "ax = sns.heatmap(wine_clean.corr(), cmap = 'bwr', vmin = -1, annot=True)\n",
    "plt.tight_layout()"
   ]
  },
  {
   "cell_type": "code",
   "execution_count": 6,
   "metadata": {},
   "outputs": [],
   "source": [
    "fig = ax.get_figure()"
   ]
  },
  {
   "cell_type": "code",
   "execution_count": 7,
   "metadata": {},
   "outputs": [],
   "source": [
    "fig.savefig('heatmap.jpeg')"
   ]
  },
  {
   "cell_type": "code",
   "execution_count": 8,
   "metadata": {},
   "outputs": [],
   "source": [
    "# Categorical correlation Functions\n",
    "# From: https://towardsdatascience.com/the-search-for-categorical-correlation-a1cf7f1888c9\n",
    "# And: https://github.com/shakedzy/dython/blob/master/dython/nominal.py\n",
    "\n",
    "import math\n",
    "import scipy.stats as ss\n",
    "from collections import Counter\n",
    "\n",
    "def convert(data, to):\n",
    "    converted = None\n",
    "    if to == 'array':\n",
    "        if isinstance(data, np.ndarray):\n",
    "            converted = data\n",
    "        elif isinstance(data, pd.Series):\n",
    "            converted = data.values\n",
    "        elif isinstance(data, list):\n",
    "            converted = np.array(data)\n",
    "        elif isinstance(data, pd.DataFrame):\n",
    "            converted = data.as_matrix()\n",
    "    elif to == 'list':\n",
    "        if isinstance(data, list):\n",
    "            converted = data\n",
    "        elif isinstance(data, pd.Series):\n",
    "            converted = data.values.tolist()\n",
    "        elif isinstance(data, np.ndarray):\n",
    "            converted = data.tolist()\n",
    "    elif to == 'dataframe':\n",
    "        if isinstance(data, pd.DataFrame):\n",
    "            converted = data\n",
    "        elif isinstance(data, np.ndarray):\n",
    "            converted = pd.DataFrame(data)\n",
    "    else:\n",
    "        raise ValueError(\"Unknown data conversion: {}\".format(to))\n",
    "    if converted is None:\n",
    "        raise TypeError('cannot handle data conversion of type: {} to {}'.format(type(data),to))\n",
    "    else:\n",
    "        return converted\n",
    "\n",
    "def conditional_entropy(x, y):\n",
    "    \"\"\"\n",
    "    Calculates the conditional entropy of x given y: S(x|y)\n",
    "    Wikipedia: https://en.wikipedia.org/wiki/Conditional_entropy\n",
    "    :param x: list / NumPy ndarray / Pandas DataFrame\n",
    "        A sequence of measurements\n",
    "    :param y: list / NumPy ndarray / Pandas DataFrame\n",
    "        A sequence of measurements\n",
    "    :return: float\n",
    "    \"\"\"\n",
    "    # entropy of x given y\n",
    "    y_counter = Counter(y)\n",
    "    xy_counter = Counter(list(zip(x,y)))\n",
    "    total_occurrences = sum(y_counter.values())\n",
    "    entropy = 0.0\n",
    "    for xy in xy_counter.keys():\n",
    "        p_xy = xy_counter[xy] / total_occurrences\n",
    "        p_y = y_counter[xy[1]] / total_occurrences\n",
    "        entropy += p_xy * math.log(p_y/p_xy)\n",
    "    return entropy\n",
    "\n",
    "\n",
    "def cramers_v(x, y):\n",
    "    \"\"\"\n",
    "    Calculates Cramer's V statistic for categorical-categorical association.\n",
    "    Uses correction from Bergsma and Wicher, Journal of the Korean Statistical Society 42 (2013): 323-328.\n",
    "    This is a symmetric coefficient: V(x,y) = V(y,x)\n",
    "    Original function taken from: https://stackoverflow.com/a/46498792/5863503\n",
    "    Wikipedia: https://en.wikipedia.org/wiki/Cram%C3%A9r%27s_V\n",
    "    :param x: list / NumPy ndarray / Pandas DataFrame\n",
    "        A sequence of categorical measurements\n",
    "    :param y: list / NumPy ndarray / Pandas DataFrame\n",
    "        A sequence of categorical measurements\n",
    "    :return: float\n",
    "        in the range of [0,1]\n",
    "    \"\"\"\n",
    "    confusion_matrix = pd.crosstab(x,y)\n",
    "    chi2 = ss.chi2_contingency(confusion_matrix)[0]\n",
    "    n = confusion_matrix.sum().sum()\n",
    "    phi2 = chi2/n\n",
    "    r,k = confusion_matrix.shape\n",
    "    phi2corr = max(0, phi2-((k-1)*(r-1))/(n-1))\n",
    "    rcorr = r-((r-1)**2)/(n-1)\n",
    "    kcorr = k-((k-1)**2)/(n-1)\n",
    "    return np.sqrt(phi2corr/min((kcorr-1),(rcorr-1)))\n",
    "\n",
    "\n",
    "def theils_u(x, y):\n",
    "    \"\"\"\n",
    "    Calculates Theil's U statistic (Uncertainty coefficient) for categorical-categorical association.\n",
    "    This is the uncertainty of x given y: value is on the range of [0,1] - where 0 means y provides no information about\n",
    "    x, and 1 means y provides full information about x.\n",
    "    This is an asymmetric coefficient: U(x,y) != U(y,x)\n",
    "    Wikipedia: https://en.wikipedia.org/wiki/Uncertainty_coefficient\n",
    "    :param x: list / NumPy ndarray / Pandas DataFrame\n",
    "        A sequence of categorical measurements\n",
    "    :param y: list / NumPy ndarray / Pandas DataFrame\n",
    "        A sequence of categorical measurements\n",
    "    :return: float\n",
    "        in the range of [0,1]\n",
    "    \"\"\"\n",
    "    s_xy = conditional_entropy(x,y)\n",
    "    x_counter = Counter(x)\n",
    "    total_occurrences = sum(x_counter.values())\n",
    "    p_x = list(map(lambda n: n/total_occurrences, x_counter.values()))\n",
    "    s_x = ss.entropy(p_x)\n",
    "    if s_x == 0:\n",
    "        return 1\n",
    "    else:\n",
    "        return (s_x - s_xy) / s_x\n",
    "\n",
    "\n",
    "def correlation_ratio(categories, measurements):\n",
    "    \"\"\"\n",
    "    Calculates the Correlation Ration (sometimes marked by the greek letter Eta) for categorical-continuous association.\n",
    "    Answers the question - given a continuous value of a measurement, is it possible to know which category is it\n",
    "    associated with?\n",
    "    Value is in the range [0,1], where 0 means a category cannot be determined by a continuous measurement, and 1 means\n",
    "    a category can be determined with absolute certainty.\n",
    "    Wikipedia: https://en.wikipedia.org/wiki/Correlation_ratio\n",
    "    :param categories: list / NumPy ndarray / Pandas DataFrame\n",
    "        A sequence of categorical measurements\n",
    "    :param measurements: list / NumPy ndarray / Pandas DataFrame\n",
    "        A sequence of continuous measurements\n",
    "    :return: float\n",
    "        in the range of [0,1]\n",
    "    \"\"\"\n",
    "    categories = convert(categories, 'array')\n",
    "    measurements = convert(measurements, 'array')\n",
    "    fcat, _ = pd.factorize(categories)\n",
    "    cat_num = np.max(fcat)+1\n",
    "    y_avg_array = np.zeros(cat_num)\n",
    "    n_array = np.zeros(cat_num)\n",
    "    for i in range(0,cat_num):\n",
    "        cat_measures = measurements[np.argwhere(fcat == i).flatten()]\n",
    "        n_array[i] = len(cat_measures)\n",
    "        y_avg_array[i] = np.average(cat_measures)\n",
    "    y_total_avg = np.sum(np.multiply(y_avg_array,n_array))/np.sum(n_array)\n",
    "    numerator = np.sum(np.multiply(n_array,np.power(np.subtract(y_avg_array,y_total_avg),2)))\n",
    "    denominator = np.sum(np.power(np.subtract(measurements,y_total_avg),2))\n",
    "    if numerator == 0:\n",
    "        eta = 0.0\n",
    "    else:\n",
    "        eta = numerator/denominator\n",
    "    return eta\n"
   ]
  },
  {
   "cell_type": "code",
   "execution_count": 9,
   "metadata": {},
   "outputs": [],
   "source": [
    "def store_correlation_ratio(category):\n",
    "    correlation_list = [\n",
    "        correlation_ratio(wine_clean[category], wine_clean['points']),\n",
    "        correlation_ratio(wine_clean[category], wine_clean['price'])\n",
    "    ]\n",
    "    \n",
    "    print(str(category) + ' association with poiints: ', \n",
    "          correlation_list[0])\n",
    "    print(str(category) + ' association with price: ', \n",
    "          correlation_list[1])\n",
    "\n",
    "    return correlation_list"
   ]
  },
  {
   "cell_type": "code",
   "execution_count": 10,
   "metadata": {},
   "outputs": [
    {
     "name": "stdout",
     "output_type": "stream",
     "text": [
      "country association with poiints:  0.052542967658625685\n",
      "country association with price:  0.01915324950248344\n"
     ]
    }
   ],
   "source": [
    "country_correlations = store_correlation_ratio('country')"
   ]
  },
  {
   "cell_type": "code",
   "execution_count": 11,
   "metadata": {},
   "outputs": [
    {
     "name": "stdout",
     "output_type": "stream",
     "text": [
      "designation association with poiints:  0.5205972516897167\n",
      "designation association with price:  0.4447792939327246\n"
     ]
    }
   ],
   "source": [
    "designation_correlations = store_correlation_ratio('designation')"
   ]
  },
  {
   "cell_type": "code",
   "execution_count": 12,
   "metadata": {},
   "outputs": [
    {
     "name": "stdout",
     "output_type": "stream",
     "text": [
      "province association with poiints:  0.11749269139253968\n",
      "province association with price:  0.083881390413612\n"
     ]
    }
   ],
   "source": [
    "province_correlations = store_correlation_ratio('province')"
   ]
  },
  {
   "cell_type": "code",
   "execution_count": 13,
   "metadata": {},
   "outputs": [
    {
     "name": "stdout",
     "output_type": "stream",
     "text": [
      "region_1 association with poiints:  0.22548897830854733\n",
      "region_1 association with price:  0.31028936358589654\n"
     ]
    }
   ],
   "source": [
    "region_1_correlations = store_correlation_ratio('region_1')"
   ]
  },
  {
   "cell_type": "code",
   "execution_count": 14,
   "metadata": {},
   "outputs": [
    {
     "name": "stdout",
     "output_type": "stream",
     "text": [
      "region_2 association with poiints:  0.042711462310652565\n",
      "region_2 association with price:  0.032287153430236026\n"
     ]
    }
   ],
   "source": [
    "region_2_correlations = store_correlation_ratio('region_2')"
   ]
  },
  {
   "cell_type": "code",
   "execution_count": 15,
   "metadata": {},
   "outputs": [
    {
     "name": "stdout",
     "output_type": "stream",
     "text": [
      "taster_name association with poiints:  0.08991694663804563\n",
      "taster_name association with price:  0.02190771369929919\n"
     ]
    }
   ],
   "source": [
    "taster_correlations = store_correlation_ratio('taster_name')"
   ]
  },
  {
   "cell_type": "code",
   "execution_count": 16,
   "metadata": {},
   "outputs": [
    {
     "name": "stdout",
     "output_type": "stream",
     "text": [
      "variety association with poiints:  0.0992906923082972\n",
      "variety association with price:  0.08251439775538863\n"
     ]
    }
   ],
   "source": [
    "variety_correlations = store_correlation_ratio('variety')"
   ]
  },
  {
   "cell_type": "code",
   "execution_count": 17,
   "metadata": {},
   "outputs": [
    {
     "name": "stdout",
     "output_type": "stream",
     "text": [
      "winery association with poiints:  0.5232313529086722\n",
      "winery association with price:  0.5742454629627854\n"
     ]
    }
   ],
   "source": [
    "winery_correlations = store_correlation_ratio('winery')"
   ]
  },
  {
   "cell_type": "code",
   "execution_count": 18,
   "metadata": {},
   "outputs": [
    {
     "name": "stdout",
     "output_type": "stream",
     "text": [
      "vintage association with poiints:  0.02113417381241989\n",
      "vintage association with price:  0.03432859637521646\n"
     ]
    }
   ],
   "source": [
    "vintage_correlations = store_correlation_ratio('vintage')"
   ]
  },
  {
   "cell_type": "code",
   "execution_count": 19,
   "metadata": {},
   "outputs": [
    {
     "ename": "SyntaxError",
     "evalue": "invalid syntax (<ipython-input-19-595f81e5eeed>, line 22)",
     "output_type": "error",
     "traceback": [
      "\u001b[0;36m  File \u001b[0;32m\"<ipython-input-19-595f81e5eeed>\"\u001b[0;36m, line \u001b[0;32m22\u001b[0m\n\u001b[0;31m    linewidths=0.1, linecolor='black', ax=ax);.\u001b[0m\n\u001b[0m                                              ^\u001b[0m\n\u001b[0;31mSyntaxError\u001b[0m\u001b[0;31m:\u001b[0m invalid syntax\n"
     ]
    }
   ],
   "source": [
    "# 'np.column_stack' from:\n",
    "# https://stackoverflow.com/questions/18730044/converting-two-lists-into-a-matrix\n",
    "cat_corr_matrix = np.column_stack([country_correlations, \n",
    "                                  designation_correlations,\n",
    "                                  province_correlations,\n",
    "                                  region_1_correlations,\n",
    "                                  region_2_correlations,\n",
    "                                  taster_correlations,\n",
    "                                  variety_correlations,\n",
    "                                  winery_correlations,\n",
    "                                  vintage_correlations])\n",
    "cat_corr_df = pd.DataFrame(data = cat_corr_matrix, \n",
    "                           index=['points', 'price'], \n",
    "                           columns=['country', 'designation', 'province',\n",
    "                                    'region_1', 'region_2', 'taster_name',\n",
    "                                    'variety', 'winery', 'vintage'])\n",
    "\n",
    "# figsize for heatmap from:\n",
    "# https://stackoverflow.com/questions/38913965/make-the-size-of-a-heatmap-bigger-with-seaborn\n",
    "fig, ax = plt.subplots(figsize=(15,15))\n",
    "plot = sns.heatmap(cat_corr_df, cmap='Reds', vmax=1.0, annot=True, \n",
    "            linewidths=0.1, linecolor='black', ax=ax);\n",
    "plt.tight_layout()\n",
    "figure = plot.get_figure()\n",
    "figure.savefig('theils_u.jpeg')"
   ]
  },
  {
   "cell_type": "code",
   "execution_count": null,
   "metadata": {},
   "outputs": [],
   "source": [
    "# Calculate Cramer's V to look at inter-associations\n",
    "# between the various categories\n",
    "def store_cramers_v():\n",
    "    categories = ['country', 'designation', 'province',\n",
    "                  'region_1', 'region_2', 'taster_name',\n",
    "                  'variety', 'winery', 'vintage'\n",
    "                 ]\n",
    "    cramers_v_list = []\n",
    "    temp = []\n",
    "    \n",
    "    for category_1 in categories:\n",
    "        for category_2 in categories:\n",
    "            if category_2 != category_1:\n",
    "                temp.append(cramers_v(wine_clean[category_1], wine_clean[category_2]))\n",
    "            else:\n",
    "                temp.append(1.0)\n",
    "        cramers_v_list.append(temp)\n",
    "        temp = []\n",
    "    \n",
    "    return cramers_v_list"
   ]
  },
  {
   "cell_type": "code",
   "execution_count": null,
   "metadata": {},
   "outputs": [],
   "source": [
    "cramers_v_list = store_cramers_v()"
   ]
  },
  {
   "cell_type": "code",
   "execution_count": null,
   "metadata": {},
   "outputs": [],
   "source": [
    "cat_cat_corr_matrix = np.column_stack(cramers_v_list)\n",
    "cat_cat_corr_df = pd.DataFrame(data = cat_cat_corr_matrix, \n",
    "                           index=['country', 'designation', 'province',\n",
    "                                    'region_1', 'region_2', 'taster_name',\n",
    "                                    'variety', 'winery', 'vintage'], \n",
    "                           columns=['country', 'designation', 'province',\n",
    "                                    'region_1', 'region_2', 'taster_name',\n",
    "                                    'variety', 'winery', 'vintage'])"
   ]
  },
  {
   "cell_type": "code",
   "execution_count": null,
   "metadata": {},
   "outputs": [],
   "source": [
    "fig, ax = plt.subplots(figsize=(15,15))\n",
    "plot_2 = sns.heatmap(cat_cat_corr_df, cmap='Reds', vmin=0.0, vmax=1.0, annot=True, \n",
    "            linewidths=0.1, linecolor='black', ax=ax);\n",
    "plt.tight_layout()\n",
    "figure_2 = plot_2.get_figure()\n",
    "figure_2.savefig('cramers_v.jpeg')"
   ]
  },
  {
   "cell_type": "code",
   "execution_count": null,
   "metadata": {},
   "outputs": [],
   "source": [
    "#tight_layout() from:\n",
    "# https://stackoverflow.com/\n",
    "# questions/13073045/matplotlib-savefig-size-control\n",
    "plot_3 = sns.lmplot(x='points', y='price', data=wine_clean);\n",
    "plt.title('WIne Price vs. Rating')\n",
    "plt.tight_layout()\n",
    "figure_3 = plot_3.fig\n",
    "figure_3.savefig('linear_correlation')"
   ]
  },
  {
   "cell_type": "code",
   "execution_count": null,
   "metadata": {},
   "outputs": [],
   "source": [
    "# Decision Tree Graph Image from:\n",
    "# https://chrisalbon.com/machine_learning/trees_and_forests\n",
    "# /visualize_a_decision_tree/\n",
    "from sklearn.tree import DecisionTreeRegressor\n",
    "from IPython.display import Image  \n",
    "from sklearn import tree\n",
    "import pydotplus"
   ]
  },
  {
   "cell_type": "code",
   "execution_count": null,
   "metadata": {},
   "outputs": [],
   "source": [
    "wine_x = wine_clean[['designation', 'region_1', 'winery', 'price']]"
   ]
  },
  {
   "cell_type": "code",
   "execution_count": null,
   "metadata": {},
   "outputs": [],
   "source": [
    "wine_x = wine_x[wine_x.groupby('designation')['designation'].transform(len) > 20]"
   ]
  },
  {
   "cell_type": "code",
   "execution_count": null,
   "metadata": {},
   "outputs": [],
   "source": [
    "wine_x = wine_x[wine_x.groupby('region_1')['region_1'].transform(len) > 20]"
   ]
  },
  {
   "cell_type": "code",
   "execution_count": null,
   "metadata": {},
   "outputs": [],
   "source": [
    "wine_x = wine_x[wine_x.groupby('winery')['winery'].transform(len) > 20]"
   ]
  },
  {
   "cell_type": "code",
   "execution_count": null,
   "metadata": {},
   "outputs": [],
   "source": [
    "wine_x.shape"
   ]
  },
  {
   "cell_type": "code",
   "execution_count": null,
   "metadata": {},
   "outputs": [],
   "source": [
    "designation_dummy = pd.get_dummies(wine_x['designation'], \n",
    "                                  prefix = 'designation')\n",
    "region_1_dummy = pd.get_dummies(wine_x['region_1'],\n",
    "                               prefix = 'region_1')\n",
    "winery_dummy = pd.get_dummies(wine_x['winery'],\n",
    "                             prefix = 'winery')"
   ]
  },
  {
   "cell_type": "code",
   "execution_count": null,
   "metadata": {},
   "outputs": [],
   "source": [
    "X = pd.concat([designation_dummy, region_1_dummy, winery_dummy], axis=1)\n",
    "y = wine_x['price']\n",
    "X.head()"
   ]
  },
  {
   "cell_type": "code",
   "execution_count": null,
   "metadata": {},
   "outputs": [],
   "source": [
    "dtree = DecisionTreeRegressor(max_depth=5, random_state=6292)\n",
    "model = dtree.fit(X, y)"
   ]
  },
  {
   "cell_type": "code",
   "execution_count": null,
   "metadata": {},
   "outputs": [],
   "source": [
    "dot_data = tree.export_graphviz(dtree, out_file=None, \n",
    "                                feature_names=X.columns, \n",
    "                                class_names='price')\n",
    "\n",
    "graph = pydotplus.graph_from_dot_data(dot_data)\n",
    "\n",
    "Image(graph.create_png())"
   ]
  },
  {
   "cell_type": "code",
   "execution_count": null,
   "metadata": {},
   "outputs": [],
   "source": [
    "graph.write_png('tree.png')"
   ]
  },
  {
   "cell_type": "code",
   "execution_count": null,
   "metadata": {},
   "outputs": [],
   "source": []
  }
 ],
 "metadata": {
  "kernelspec": {
   "display_name": "Python 3",
   "language": "python",
   "name": "python3"
  },
  "language_info": {
   "codemirror_mode": {
    "name": "ipython",
    "version": 3
   },
   "file_extension": ".py",
   "mimetype": "text/x-python",
   "name": "python",
   "nbconvert_exporter": "python",
   "pygments_lexer": "ipython3",
   "version": "3.6.5"
  }
 },
 "nbformat": 4,
 "nbformat_minor": 2
}
