{
 "cells": [
  {
   "cell_type": "code",
   "execution_count": 22,
   "metadata": {},
   "outputs": [],
   "source": [
    "import pandas as pd\n",
    "import numpy as np\n",
    "from matplotlib import pyplot as plt\n",
    "\n",
    "from sklearn import metrics\n",
    "from sklearn.model_selection import train_test_split, KFold, cross_validate\n",
    "\n",
    "from sklearn.tree import DecisionTreeRegressor\n",
    "from sklearn.ensemble import BaggingRegressor\n",
    "from sklearn.linear_model import LinearRegression"
   ]
  },
  {
   "cell_type": "code",
   "execution_count": 23,
   "metadata": {},
   "outputs": [
    {
     "data": {
      "text/html": [
       "<div>\n",
       "<style scoped>\n",
       "    .dataframe tbody tr th:only-of-type {\n",
       "        vertical-align: middle;\n",
       "    }\n",
       "\n",
       "    .dataframe tbody tr th {\n",
       "        vertical-align: top;\n",
       "    }\n",
       "\n",
       "    .dataframe thead th {\n",
       "        text-align: right;\n",
       "    }\n",
       "</style>\n",
       "<table border=\"1\" class=\"dataframe\">\n",
       "  <thead>\n",
       "    <tr style=\"text-align: right;\">\n",
       "      <th></th>\n",
       "      <th>country</th>\n",
       "      <th>description</th>\n",
       "      <th>designation</th>\n",
       "      <th>points</th>\n",
       "      <th>price</th>\n",
       "      <th>province</th>\n",
       "      <th>region_1</th>\n",
       "      <th>region_2</th>\n",
       "      <th>taster_name</th>\n",
       "      <th>taster_twitter_handle</th>\n",
       "      <th>title</th>\n",
       "      <th>variety</th>\n",
       "      <th>winery</th>\n",
       "      <th>vintage</th>\n",
       "      <th>vintage_str_data</th>\n",
       "      <th>scaled_points</th>\n",
       "    </tr>\n",
       "  </thead>\n",
       "  <tbody>\n",
       "    <tr>\n",
       "      <th>1</th>\n",
       "      <td>Portugal</td>\n",
       "      <td>This is ripe and fruity, a wine that is smooth...</td>\n",
       "      <td>Avidagos</td>\n",
       "      <td>87</td>\n",
       "      <td>15.0</td>\n",
       "      <td>Douro</td>\n",
       "      <td>not_specified</td>\n",
       "      <td>not_specified</td>\n",
       "      <td>Roger Voss</td>\n",
       "      <td>@vossroger</td>\n",
       "      <td>Quinta dos Avidagos 2011 Avidagos Red (Douro)</td>\n",
       "      <td>Portuguese Red</td>\n",
       "      <td>Quinta dos Avidagos</td>\n",
       "      <td>2011</td>\n",
       "      <td>2011 Avidagos Red (Douro)</td>\n",
       "      <td>44.317767</td>\n",
       "    </tr>\n",
       "    <tr>\n",
       "      <th>2</th>\n",
       "      <td>US</td>\n",
       "      <td>Tart and snappy, the flavors of lime flesh and...</td>\n",
       "      <td>no_designation</td>\n",
       "      <td>87</td>\n",
       "      <td>14.0</td>\n",
       "      <td>Oregon</td>\n",
       "      <td>Willamette Valley</td>\n",
       "      <td>Willamette Valley</td>\n",
       "      <td>Paul Gregutt</td>\n",
       "      <td>@paulgwine</td>\n",
       "      <td>Rainstorm 2013 Pinot Gris (Willamette Valley)</td>\n",
       "      <td>Pinot Gris</td>\n",
       "      <td>Rainstorm</td>\n",
       "      <td>2013</td>\n",
       "      <td>2013 Pinot Gris (Willamette Valley)</td>\n",
       "      <td>41.982247</td>\n",
       "    </tr>\n",
       "    <tr>\n",
       "      <th>3</th>\n",
       "      <td>US</td>\n",
       "      <td>Pineapple rind, lemon pith and orange blossom ...</td>\n",
       "      <td>Reserve Late Harvest</td>\n",
       "      <td>87</td>\n",
       "      <td>13.0</td>\n",
       "      <td>Michigan</td>\n",
       "      <td>Lake Michigan Shore</td>\n",
       "      <td>not_specified</td>\n",
       "      <td>Alexander Peartree</td>\n",
       "      <td>no_twitter</td>\n",
       "      <td>St. Julian 2013 Reserve Late Harvest Riesling ...</td>\n",
       "      <td>Riesling</td>\n",
       "      <td>St. Julian</td>\n",
       "      <td>2013</td>\n",
       "      <td>2013 Reserve Late Harvest Riesling (Lake Mich...</td>\n",
       "      <td>57.575804</td>\n",
       "    </tr>\n",
       "    <tr>\n",
       "      <th>4</th>\n",
       "      <td>US</td>\n",
       "      <td>Much like the regular bottling from 2012, this...</td>\n",
       "      <td>Vintner's Reserve Wild Child Block</td>\n",
       "      <td>87</td>\n",
       "      <td>65.0</td>\n",
       "      <td>Oregon</td>\n",
       "      <td>Willamette Valley</td>\n",
       "      <td>Willamette Valley</td>\n",
       "      <td>Paul Gregutt</td>\n",
       "      <td>@paulgwine</td>\n",
       "      <td>Sweet Cheeks 2012 Vintner's Reserve Wild Child...</td>\n",
       "      <td>Pinot Noir</td>\n",
       "      <td>Sweet Cheeks</td>\n",
       "      <td>2012</td>\n",
       "      <td>2012 Vintner's Reserve Wild Child Block Pinot...</td>\n",
       "      <td>41.982247</td>\n",
       "    </tr>\n",
       "    <tr>\n",
       "      <th>5</th>\n",
       "      <td>Spain</td>\n",
       "      <td>Blackberry and raspberry aromas show a typical...</td>\n",
       "      <td>Ars In Vitro</td>\n",
       "      <td>87</td>\n",
       "      <td>15.0</td>\n",
       "      <td>Northern Spain</td>\n",
       "      <td>Navarra</td>\n",
       "      <td>not_specified</td>\n",
       "      <td>Michael Schachner</td>\n",
       "      <td>@wineschach</td>\n",
       "      <td>Tandem 2011 Ars In Vitro Tempranillo-Merlot (N...</td>\n",
       "      <td>Tempranillo-Merlot</td>\n",
       "      <td>Tandem</td>\n",
       "      <td>2011</td>\n",
       "      <td>2011 Ars In Vitro Tempranillo-Merlot (Navarra)</td>\n",
       "      <td>50.921302</td>\n",
       "    </tr>\n",
       "  </tbody>\n",
       "</table>\n",
       "</div>"
      ],
      "text/plain": [
       "    country                                        description  \\\n",
       "1  Portugal  This is ripe and fruity, a wine that is smooth...   \n",
       "2        US  Tart and snappy, the flavors of lime flesh and...   \n",
       "3        US  Pineapple rind, lemon pith and orange blossom ...   \n",
       "4        US  Much like the regular bottling from 2012, this...   \n",
       "5     Spain  Blackberry and raspberry aromas show a typical...   \n",
       "\n",
       "                          designation  points  price        province  \\\n",
       "1                            Avidagos      87   15.0           Douro   \n",
       "2                      no_designation      87   14.0          Oregon   \n",
       "3                Reserve Late Harvest      87   13.0        Michigan   \n",
       "4  Vintner's Reserve Wild Child Block      87   65.0          Oregon   \n",
       "5                        Ars In Vitro      87   15.0  Northern Spain   \n",
       "\n",
       "              region_1           region_2         taster_name  \\\n",
       "1        not_specified      not_specified          Roger Voss   \n",
       "2    Willamette Valley  Willamette Valley        Paul Gregutt   \n",
       "3  Lake Michigan Shore      not_specified  Alexander Peartree   \n",
       "4    Willamette Valley  Willamette Valley        Paul Gregutt   \n",
       "5              Navarra      not_specified   Michael Schachner   \n",
       "\n",
       "  taster_twitter_handle                                              title  \\\n",
       "1            @vossroger      Quinta dos Avidagos 2011 Avidagos Red (Douro)   \n",
       "2            @paulgwine      Rainstorm 2013 Pinot Gris (Willamette Valley)   \n",
       "3            no_twitter  St. Julian 2013 Reserve Late Harvest Riesling ...   \n",
       "4            @paulgwine  Sweet Cheeks 2012 Vintner's Reserve Wild Child...   \n",
       "5           @wineschach  Tandem 2011 Ars In Vitro Tempranillo-Merlot (N...   \n",
       "\n",
       "              variety               winery vintage  \\\n",
       "1      Portuguese Red  Quinta dos Avidagos    2011   \n",
       "2          Pinot Gris            Rainstorm    2013   \n",
       "3            Riesling           St. Julian    2013   \n",
       "4          Pinot Noir         Sweet Cheeks    2012   \n",
       "5  Tempranillo-Merlot               Tandem    2011   \n",
       "\n",
       "                                    vintage_str_data  scaled_points  \n",
       "1                          2011 Avidagos Red (Douro)      44.317767  \n",
       "2                2013 Pinot Gris (Willamette Valley)      41.982247  \n",
       "3   2013 Reserve Late Harvest Riesling (Lake Mich...      57.575804  \n",
       "4   2012 Vintner's Reserve Wild Child Block Pinot...      41.982247  \n",
       "5     2011 Ars In Vitro Tempranillo-Merlot (Navarra)      50.921302  "
      ]
     },
     "execution_count": 23,
     "metadata": {},
     "output_type": "execute_result"
    }
   ],
   "source": [
    "path = '../data/winemag-clean.csv'\n",
    "wine_clean = pd.read_csv(path, index_col = 0)\n",
    "wine_clean.head()"
   ]
  },
  {
   "cell_type": "code",
   "execution_count": 24,
   "metadata": {},
   "outputs": [],
   "source": [
    "# Try all three values \n",
    "wine_x = wine_clean[['designation', 'region_1', 'winery','price']]"
   ]
  },
  {
   "cell_type": "code",
   "execution_count": 25,
   "metadata": {},
   "outputs": [
    {
     "name": "stdout",
     "output_type": "stream",
     "text": [
      "unique designations: 35754\n",
      "unique regions: 1205\n",
      "unique wineries: 15843\n"
     ]
    }
   ],
   "source": [
    "# Check number of unique values\n",
    "print('unique designations:', wine_x['designation'].nunique())\n",
    "print('unique regions:', wine_x['region_1'].nunique())\n",
    "print('unique wineries:', wine_x['winery'].nunique())"
   ]
  },
  {
   "cell_type": "code",
   "execution_count": 26,
   "metadata": {},
   "outputs": [],
   "source": [
    "# Too many values - previous iterations took\n",
    "# too long to run - Remove values that only appear once from:\n",
    "# https://stackoverflow.com/questions/\n",
    "# 33071182/remove-values-that-appear-only-once-in-a-dataframe-column\n",
    "wine_x_small = wine_x[wine_x.groupby('designation')['designation'].transform(len) > 20]\n"
   ]
  },
  {
   "cell_type": "code",
   "execution_count": 27,
   "metadata": {},
   "outputs": [],
   "source": [
    "wine_x_small = wine_x_small[wine_x_small.groupby('region_1')['region_1'].transform(len) > 50]"
   ]
  },
  {
   "cell_type": "code",
   "execution_count": 28,
   "metadata": {},
   "outputs": [],
   "source": [
    "wine_x_small = wine_x_small[wine_x_small.groupby('winery')['winery'].transform(len) > 50]"
   ]
  },
  {
   "cell_type": "code",
   "execution_count": 29,
   "metadata": {},
   "outputs": [
    {
     "name": "stdout",
     "output_type": "stream",
     "text": [
      "59\n",
      "53\n",
      "23\n"
     ]
    }
   ],
   "source": [
    "# Check again\n",
    "print(wine_x_small['designation'].nunique())\n",
    "print(wine_x_small['region_1'].nunique())\n",
    "print(wine_x_small['winery'].nunique())"
   ]
  },
  {
   "cell_type": "code",
   "execution_count": 33,
   "metadata": {},
   "outputs": [],
   "source": [
    "designation_dummy = pd.get_dummies(wine_x_small['designation'], \n",
    "                                  prefix = 'designation')\n",
    "region_1_dummy = pd.get_dummies(wine_x_small['region_1'],\n",
    "                               prefix = 'region_1')\n",
    "winery_dummy = pd.get_dummies(wine_x_small['winery'],\n",
    "                             prefix = 'winery')"
   ]
  },
  {
   "cell_type": "code",
   "execution_count": null,
   "metadata": {},
   "outputs": [],
   "source": [
    "X = pd.concat([designation_dummy, region_1_dummy, winery_dummy], axis=1)"
   ]
  },
  {
   "cell_type": "code",
   "execution_count": 37,
   "metadata": {},
   "outputs": [],
   "source": [
    "y = wine_x_small['price']"
   ]
  },
  {
   "cell_type": "code",
   "execution_count": 38,
   "metadata": {},
   "outputs": [
    {
     "data": {
      "text/plain": [
       "(111537, 52802)"
      ]
     },
     "execution_count": 38,
     "metadata": {},
     "output_type": "execute_result"
    }
   ],
   "source": [
    "X.shape"
   ]
  },
  {
   "cell_type": "code",
   "execution_count": 39,
   "metadata": {},
   "outputs": [],
   "source": [
    "#Baseline - mean price\n",
    "# start with a basic Train/Test split (70% training data, 30% testing data\n",
    "# by default)\n",
    "X_train, X_test, y_train, y_test = train_test_split(X, y, random_state=5)"
   ]
  },
  {
   "cell_type": "code",
   "execution_count": 40,
   "metadata": {},
   "outputs": [
    {
     "data": {
      "text/plain": [
       "array([35.62627648, 35.62627648, 35.62627648, ..., 35.62627648,\n",
       "       35.62627648, 35.62627648])"
      ]
     },
     "execution_count": 40,
     "metadata": {},
     "output_type": "execute_result"
    }
   ],
   "source": [
    "# The 'null' value would be to predict that every price was equal to\n",
    "# the average of all prices in the dataset\n",
    "y_null = np.zeros_like(y_test, dtype=float)\n",
    "y_null.fill(y.mean())\n",
    "y_null"
   ]
  },
  {
   "cell_type": "code",
   "execution_count": 41,
   "metadata": {},
   "outputs": [
    {
     "name": "stdout",
     "output_type": "stream",
     "text": [
      "Null case RMSE: 39.679966809523435\n"
     ]
    }
   ],
   "source": [
    "print('Null case RMSE:', np.sqrt(metrics.mean_squared_error(y_test, y_null)))"
   ]
  },
  {
   "cell_type": "code",
   "execution_count": 15,
   "metadata": {},
   "outputs": [
    {
     "data": {
      "text/plain": [
       "LinearRegression(copy_X=True, fit_intercept=True, n_jobs=1, normalize=False)"
      ]
     },
     "execution_count": 15,
     "metadata": {},
     "output_type": "execute_result"
    }
   ],
   "source": [
    "linreg = LinearRegression()\n",
    "linreg.fit(X_train, y_train)"
   ]
  },
  {
   "cell_type": "code",
   "execution_count": 16,
   "metadata": {},
   "outputs": [],
   "source": [
    "pred = linreg.predict(X_test)"
   ]
  },
  {
   "cell_type": "code",
   "execution_count": 17,
   "metadata": {},
   "outputs": [
    {
     "name": "stdout",
     "output_type": "stream",
     "text": [
      "Linear Regression RMSE: 14020216702308.39\n",
      "Linear Regression R-squared: -1.0481558720523691e+24\n"
     ]
    }
   ],
   "source": [
    "print('Linear Regression RMSE:', np.sqrt(metrics.mean_squared_error(y_test, pred)))\n",
    "print('Linear Regression R-squared:', metrics.r2_score(y_test, pred))"
   ]
  },
  {
   "cell_type": "code",
   "execution_count": 18,
   "metadata": {},
   "outputs": [],
   "source": [
    "# Try each main metric individually - make a function\n",
    "def feature_test(features, unique=0, num=1):\n",
    "    for feature in features:\n",
    "        wine_x = wine_clean[[feature, 'price']]\n",
    "        if feature != 'points':\n",
    "            if unique:\n",
    "                wine_x = wine_x[wine_x.groupby(feature)[feature].transform(len) > unique]\n",
    "            X = pd.get_dummies(wine_x[feature], prefix=feature)\n",
    "        else: \n",
    "            X = wine_x[[feature]]\n",
    "        \n",
    "        y = wine_x['price']\n",
    "        \n",
    "        X_train, X_test, y_train, y_test = train_test_split(X, y, random_state=5)\n",
    "        \n",
    "        y_null = np.zeros_like(y_test, dtype=float)\n",
    "        y_null.fill(y.mean())\n",
    "        print('Null case RMSE for ' + feature + ':', \n",
    "              np.sqrt(metrics.mean_squared_error(y_test, y_null)))\n",
    "        \n",
    "        linreg = LinearRegression()\n",
    "        linreg.fit(X_train, y_train)\n",
    "        \n",
    "        pred = linreg.predict(X_test)\n",
    "        \n",
    "        print('Linear Regression RMSE for ' + feature + ':', \n",
    "              np.sqrt(metrics.mean_squared_error(y_test, pred)))\n",
    "        print('Linear Regression R-squared for ' + feature + ':', \n",
    "              metrics.r2_score(y_test, pred))\n",
    "        print()\n",
    "    return"
   ]
  },
  {
   "cell_type": "code",
   "execution_count": 19,
   "metadata": {},
   "outputs": [
    {
     "name": "stdout",
     "output_type": "stream",
     "text": [
      "Null case RMSE for designation: 41.833526729426204\n",
      "Linear Regression RMSE for designation: 40.982532139944084\n",
      "Linear Regression R-squared for designation: 0.040260553472607596\n",
      "\n",
      "Null case RMSE for region_1: 41.38965150283558\n",
      "Linear Regression RMSE for region_1: 36.995787895706115\n",
      "Linear Regression R-squared for region_1: 0.20103859878446195\n",
      "\n",
      "Null case RMSE for winery: 37.48072763631314\n",
      "Linear Regression RMSE for winery: 30.32948747305227\n",
      "Linear Regression R-squared for winery: 0.3451670584226003\n",
      "\n"
     ]
    }
   ],
   "source": [
    "feature_test(['designation', 'region_1', 'winery'], unique = 20)"
   ]
  },
  {
   "cell_type": "code",
   "execution_count": 20,
   "metadata": {},
   "outputs": [
    {
     "name": "stdout",
     "output_type": "stream",
     "text": [
      "Null case RMSE for country: 40.14606487339159\n",
      "Linear Regression RMSE for country: 39.71477405927935\n",
      "Linear Regression R-squared for country: 0.021336108078201743\n",
      "\n",
      "Null case RMSE for designation: 41.833526729426204\n",
      "Linear Regression RMSE for designation: 40.982532139944084\n",
      "Linear Regression R-squared for designation: 0.040260553472607596\n",
      "\n",
      "Null case RMSE for points: 39.679966809523435\n",
      "Linear Regression RMSE for points: 35.63286663427134\n",
      "Linear Regression R-squared for points: 0.19358427991904248\n",
      "\n",
      "Null case RMSE for province: 37.86696459968853\n",
      "Linear Regression RMSE for province: 36.09110923162204\n",
      "Linear Regression R-squared for province: 0.09153390752807988\n",
      "\n",
      "Null case RMSE for region_1: 41.38965150283558\n",
      "Linear Regression RMSE for region_1: 36.995787895706115\n",
      "Linear Regression R-squared for region_1: 0.20103859878446195\n",
      "\n",
      "Null case RMSE for region_2: 39.679966809523435\n",
      "Linear Regression RMSE for region_2: 38.9033683913871\n",
      "Linear Regression R-squared for region_2: 0.038759917885619055\n",
      "\n",
      "Null case RMSE for variety: 46.229401816320184\n",
      "Linear Regression RMSE for variety: 44.5837270993518\n",
      "Linear Regression R-squared for variety: 0.06986115363265799\n",
      "\n",
      "Null case RMSE for winery: 37.48072763631314\n",
      "Linear Regression RMSE for winery: 30.32948747305227\n",
      "Linear Regression R-squared for winery: 0.3451670584226003\n",
      "\n",
      "Null case RMSE for vintage: 41.5630729342856\n",
      "Linear Regression RMSE for vintage: 41.295095182632274\n",
      "Linear Regression R-squared for vintage: 0.012847920018526082\n",
      "\n"
     ]
    }
   ],
   "source": [
    "# Try with all columns for fun\n",
    "feature_test(['country', 'designation', 'points', 'province', \n",
    "             'region_1', 'region_2', 'variety', 'winery', 'vintage'], unique=20)"
   ]
  },
  {
   "cell_type": "code",
   "execution_count": 21,
   "metadata": {},
   "outputs": [],
   "source": [
    "# While this is suprising - pretty clear that these items work unto themselves but it isn't\n",
    "# A linear relationship.  Need to use a random forest for this "
   ]
  }
 ],
 "metadata": {
  "kernelspec": {
   "display_name": "Python 3",
   "language": "python",
   "name": "python3"
  },
  "language_info": {
   "codemirror_mode": {
    "name": "ipython",
    "version": 3
   },
   "file_extension": ".py",
   "mimetype": "text/x-python",
   "name": "python",
   "nbconvert_exporter": "python",
   "pygments_lexer": "ipython3",
   "version": "3.6.5"
  }
 },
 "nbformat": 4,
 "nbformat_minor": 2
}
