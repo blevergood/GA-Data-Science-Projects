{
 "cells": [
  {
   "cell_type": "code",
   "execution_count": null,
   "metadata": {},
   "outputs": [],
   "source": [
    "# Start by creating categorical variables for 'taster_name', 'variety', \n",
    "# and 'winery' (no nulls)\n",
    "# From Linear Regression lecture\n",
    "dummies = pd.get_dummies(\n",
    "    wine_clean[['taster_name', 'variety', 'winery', 'vintage']], \n",
    "    prefix=['taster', 'variety', 'winery', 'vintage']\n",
    ")"
   ]
  },
  {
   "cell_type": "code",
   "execution_count": null,
   "metadata": {},
   "outputs": [],
   "source": [
    "# Verify the dummies\n",
    "dummies.sample(n=5, random_state=5)"
   ]
  },
  {
   "cell_type": "code",
   "execution_count": null,
   "metadata": {},
   "outputs": [],
   "source": [
    "# Make smaller dummies to do correlations\n",
    "dummy_taster = pd.get_dummies(wine_clean['taster_name'], prefix = 'taster')"
   ]
  },
  {
   "cell_type": "code",
   "execution_count": null,
   "metadata": {},
   "outputs": [],
   "source": [
    "dummy_variety = pd.get_dummies(wine_clean['variety'], prefix = 'variety')"
   ]
  },
  {
   "cell_type": "code",
   "execution_count": null,
   "metadata": {},
   "outputs": [],
   "source": [
    "dummy_winery = pd.get_dummies(wine_clean['winery'], prefix = 'winery')"
   ]
  },
  {
   "cell_type": "code",
   "execution_count": null,
   "metadata": {},
   "outputs": [],
   "source": [
    "dummy_vintage = pd.get_dummies(wine_clean['vintage'], prefix = 'vintage')"
   ]
  },
  {
   "cell_type": "code",
   "execution_count": null,
   "metadata": {},
   "outputs": [],
   "source": [
    "#Add dummy data to dataframe (as separate dataframes)\n",
    "wine_dummy_taster = pd.concat([wine_clean, dummy_taster], axis = 1)"
   ]
  },
  {
   "cell_type": "code",
   "execution_count": null,
   "metadata": {},
   "outputs": [],
   "source": [
    "wine_dummy_variety = pd.concat([wine_clean, dummy_variety], axis = 1)"
   ]
  },
  {
   "cell_type": "code",
   "execution_count": null,
   "metadata": {},
   "outputs": [],
   "source": [
    "wine_dummy_winery = pd.concat([wine_clean, dummy_winery], axis = 1)"
   ]
  },
  {
   "cell_type": "code",
   "execution_count": null,
   "metadata": {},
   "outputs": [],
   "source": [
    "wine_dummy_vintage = pd.concat([wine_clean, dummy_vintage], axis = 1)"
   ]
  },
  {
   "cell_type": "code",
   "execution_count": null,
   "metadata": {},
   "outputs": [],
   "source": [
    "# verify appropriate shapes\n",
    "print(wine_clean.shape)\n",
    "print(wine_dummy_taster.shape)\n",
    "print(wine_dummy_variety.shape)\n",
    "print(wine_dummy_winery.shape)\n",
    "print(wine_dummy_vintage.shape)"
   ]
  },
  {
   "cell_type": "code",
   "execution_count": null,
   "metadata": {},
   "outputs": [],
   "source": [
    "# Change sns plot size from:\n",
    "# https://stackoverflow.com/questions/\n",
    "# 31594549/how-do-i-change-the-figure-size-for-a-seaborn-plot\n",
    "#fig, ax = plt.subplots(figsize=(15,15))\n",
    "#sns.heatmap(wine_dummy_taster.corr(), cmap = 'bwr', vmin = -1, ax = ax);"
   ]
  },
  {
   "cell_type": "code",
   "execution_count": null,
   "metadata": {},
   "outputs": [],
   "source": [
    "# This is a lot & taster correlations to each other don't mean anything, try getting\n",
    "# just the points and price correlations in a heatmap\n",
    "#fig_b, ax_b = plt.subplots(figsize=(15,15))\n",
    "#sns.heatmap(wine_dummy_taster.corr()[['points', 'price']], cmap = 'bwr', vmin = -1, ax = ax_b);"
   ]
  },
  {
   "cell_type": "code",
   "execution_count": null,
   "metadata": {},
   "outputs": [],
   "source": [
    "# Since 'variety' is larger, just do this right off the bat\n",
    "#fig_c, ax_c = plt.subplots(figsize=(15,15))\n",
    "#sns.heatmap(wine_dummy_variety.corr()[['points', 'price']], cmap = 'bwr', vmin = -1, ax = ax_c);"
   ]
  },
  {
   "cell_type": "code",
   "execution_count": null,
   "metadata": {},
   "outputs": [],
   "source": [
    "# Still too many categories to really make this out - just look at the data itself here, going to have to\n",
    "# experiment with what it will actually do to a model in the next phase\n",
    "#wine_dummy_variety.corr()[['points', 'price']]"
   ]
  },
  {
   "cell_type": "code",
   "execution_count": null,
   "metadata": {},
   "outputs": [],
   "source": [
    "# Since there are even more wineries than varieties, just going to show the head\n",
    "# of this data here, not going to try and visualize it. In order to display this,\n",
    "# the line of code would be \n",
    "#wine_dummy_winery.corr()[['points', 'price']].head(10)"
   ]
  },
  {
   "cell_type": "code",
   "execution_count": null,
   "metadata": {},
   "outputs": [],
   "source": [
    "# Finally show correlations between vintages and our points and price variables\n",
    "#fig_d, ax_d = plt.subplots(figsize=(15,15))\n",
    "#sns.heatmap(wine_dummy_vintage.corr()[['points', 'price']], cmap = 'bwr', vmin = -1, ax = ax_d);"
   ]
  }
 ],
 "metadata": {
  "kernelspec": {
   "display_name": "Python 3",
   "language": "python",
   "name": "python3"
  },
  "language_info": {
   "codemirror_mode": {
    "name": "ipython",
    "version": 3
   },
   "file_extension": ".py",
   "mimetype": "text/x-python",
   "name": "python",
   "nbconvert_exporter": "python",
   "pygments_lexer": "ipython3",
   "version": "3.6.5"
  }
 },
 "nbformat": 4,
 "nbformat_minor": 2
}
